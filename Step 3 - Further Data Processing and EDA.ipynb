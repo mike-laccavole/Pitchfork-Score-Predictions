{
 "cells": [
  {
   "cell_type": "markdown",
   "metadata": {},
   "source": [
    "# Step 3 - Further Data Processing and EDA"
   ]
  },
  {
   "cell_type": "markdown",
   "metadata": {},
   "source": [
    "**This notebook is split up into 2 main parts: Further Data Processing and EDA.** The first part isn't that lengthy and involved tokenizing, lemmatizing, and stemming the reviews of each album. At the end of this section, I've saved 3 new dataframes to the `datasets` folder of this repository: one with tokenized reviews, one with lemmatized reviews, and one with stemmed reviews."
   ]
  },
  {
   "cell_type": "markdown",
   "metadata": {},
   "source": [
    "### Part I: Further Data Processing"
   ]
  },
  {
   "cell_type": "code",
   "execution_count": 1,
   "metadata": {},
   "outputs": [],
   "source": [
    "# Make necessary imports\n",
    "import pandas as pd\n",
    "import numpy as np\n",
    "\n",
    "import seaborn as sns\n",
    "import matplotlib.pyplot as plt\n",
    "\n",
    "from nltk.tokenize import RegexpTokenizer\n",
    "from nltk.stem import WordNetLemmatizer\n",
    "from nltk.stem.porter import PorterStemmer\n",
    "from nltk.corpus import stopwords\n",
    "\n",
    "from sklearn.linear_model import LinearRegression\n",
    "from sklearn.feature_extraction.text import CountVectorizer, TfidfVectorizer\n",
    "\n",
    "from sklearn.model_selection import train_test_split, cross_val_score"
   ]
  },
  {
   "cell_type": "code",
   "execution_count": 3,
   "metadata": {},
   "outputs": [
    {
     "data": {
      "text/html": [
       "<div>\n",
       "<style scoped>\n",
       "    .dataframe tbody tr th:only-of-type {\n",
       "        vertical-align: middle;\n",
       "    }\n",
       "\n",
       "    .dataframe tbody tr th {\n",
       "        vertical-align: top;\n",
       "    }\n",
       "\n",
       "    .dataframe thead th {\n",
       "        text-align: right;\n",
       "    }\n",
       "</style>\n",
       "<table border=\"1\" class=\"dataframe\">\n",
       "  <thead>\n",
       "    <tr style=\"text-align: right;\">\n",
       "      <th></th>\n",
       "      <th>Unnamed: 0</th>\n",
       "      <th>album</th>\n",
       "      <th>artist</th>\n",
       "      <th>score</th>\n",
       "      <th>genre</th>\n",
       "      <th>date</th>\n",
       "      <th>label</th>\n",
       "      <th>author</th>\n",
       "      <th>review</th>\n",
       "    </tr>\n",
       "  </thead>\n",
       "  <tbody>\n",
       "    <tr>\n",
       "      <th>0</th>\n",
       "      <td>0</td>\n",
       "      <td>Set My Heart on Fire Immediately</td>\n",
       "      <td>Perfume Genius</td>\n",
       "      <td>9.0</td>\n",
       "      <td>Pop/R&amp;B</td>\n",
       "      <td>2020</td>\n",
       "      <td>Matador</td>\n",
       "      <td>Madison Bloom</td>\n",
       "      <td>Each Perfume Genius album is a metamorphosis. ...</td>\n",
       "    </tr>\n",
       "    <tr>\n",
       "      <th>1</th>\n",
       "      <td>1</td>\n",
       "      <td>WILL THIS MAKE ME GOOD</td>\n",
       "      <td>Nick Hakim</td>\n",
       "      <td>6.0</td>\n",
       "      <td>Rock</td>\n",
       "      <td>2020</td>\n",
       "      <td>ATO</td>\n",
       "      <td>Jonah Bromwich</td>\n",
       "      <td>Nick Hakim’s compulsively listenable debut alb...</td>\n",
       "    </tr>\n",
       "    <tr>\n",
       "      <th>2</th>\n",
       "      <td>2</td>\n",
       "      <td>Every Sun, Every Moon</td>\n",
       "      <td>I'm Glad It's You</td>\n",
       "      <td>7.4</td>\n",
       "      <td>Rock</td>\n",
       "      <td>2020</td>\n",
       "      <td>6131</td>\n",
       "      <td>Arielle Gordon</td>\n",
       "      <td>Grief casts a shadow over the past. It lends n...</td>\n",
       "    </tr>\n",
       "    <tr>\n",
       "      <th>3</th>\n",
       "      <td>3</td>\n",
       "      <td>The Quickening</td>\n",
       "      <td>Jim WhiteMarisa Anderson</td>\n",
       "      <td>7.8</td>\n",
       "      <td>Rock</td>\n",
       "      <td>2020</td>\n",
       "      <td>Thrill Jockey</td>\n",
       "      <td>Jesse Jarnow</td>\n",
       "      <td>The Quickening opens with an ecstatic swirl of...</td>\n",
       "    </tr>\n",
       "    <tr>\n",
       "      <th>4</th>\n",
       "      <td>4</td>\n",
       "      <td>Dare</td>\n",
       "      <td>The Human League</td>\n",
       "      <td>9.1</td>\n",
       "      <td>Electronic</td>\n",
       "      <td>1981</td>\n",
       "      <td>Virgin</td>\n",
       "      <td>Brad Nelson</td>\n",
       "      <td>In late 1980, the singer Philip Oakey was sche...</td>\n",
       "    </tr>\n",
       "  </tbody>\n",
       "</table>\n",
       "</div>"
      ],
      "text/plain": [
       "   Unnamed: 0                             album                    artist  \\\n",
       "0           0  Set My Heart on Fire Immediately            Perfume Genius   \n",
       "1           1            WILL THIS MAKE ME GOOD                Nick Hakim   \n",
       "2           2             Every Sun, Every Moon         I'm Glad It's You   \n",
       "3           3                    The Quickening  Jim WhiteMarisa Anderson   \n",
       "4           4                              Dare          The Human League   \n",
       "\n",
       "   score       genre  date          label          author  \\\n",
       "0    9.0     Pop/R&B  2020        Matador   Madison Bloom   \n",
       "1    6.0        Rock  2020            ATO  Jonah Bromwich   \n",
       "2    7.4        Rock  2020           6131  Arielle Gordon   \n",
       "3    7.8        Rock  2020  Thrill Jockey    Jesse Jarnow   \n",
       "4    9.1  Electronic  1981         Virgin     Brad Nelson   \n",
       "\n",
       "                                              review  \n",
       "0  Each Perfume Genius album is a metamorphosis. ...  \n",
       "1  Nick Hakim’s compulsively listenable debut alb...  \n",
       "2  Grief casts a shadow over the past. It lends n...  \n",
       "3  The Quickening opens with an ecstatic swirl of...  \n",
       "4  In late 1980, the singer Philip Oakey was sche...  "
      ]
     },
     "execution_count": 3,
     "metadata": {},
     "output_type": "execute_result"
    }
   ],
   "source": [
    "# Read in csv of reviews, check head of dataframer\n",
    "df = pd.read_csv('../datasets/other-datasets/pitchfork_reviews.csv')\n",
    "df.head()"
   ]
  },
  {
   "cell_type": "markdown",
   "metadata": {},
   "source": [
    "**Check for nulls, drop any unecessary columns, check data types**"
   ]
  },
  {
   "cell_type": "code",
   "execution_count": 4,
   "metadata": {},
   "outputs": [],
   "source": [
    "# Drop column called Unnamed:0\n",
    "df.drop(columns='Unnamed: 0', inplace = True)"
   ]
  },
  {
   "cell_type": "code",
   "execution_count": 5,
   "metadata": {},
   "outputs": [],
   "source": [
    "# Check for nulls\n",
    "df.isnull().sum()\n",
    "\n",
    "# Drop nulls\n",
    "df.dropna(inplace = True)"
   ]
  },
  {
   "cell_type": "code",
   "execution_count": 6,
   "metadata": {},
   "outputs": [
    {
     "data": {
      "text/plain": [
       "album      object\n",
       "artist     object\n",
       "score     float64\n",
       "genre      object\n",
       "date       object\n",
       "label      object\n",
       "author     object\n",
       "review     object\n",
       "dtype: object"
      ]
     },
     "execution_count": 6,
     "metadata": {},
     "output_type": "execute_result"
    }
   ],
   "source": [
    "# Check data types\n",
    "df.dtypes"
   ]
  },
  {
   "cell_type": "markdown",
   "metadata": {},
   "source": [
    "#### Date"
   ]
  },
  {
   "cell_type": "markdown",
   "metadata": {},
   "source": [
    "In exploring the rows of this dataset, it looks like the date column didn't scrape cleanly. For a majority of the entries, the value is exactly as it should be: 4 characters long, refelcting the year the album was released in. Below is a further exploration into some of the problematic values:"
   ]
  },
  {
   "cell_type": "code",
   "execution_count": 7,
   "metadata": {},
   "outputs": [
    {
     "data": {
      "text/plain": [
       "array(['2020', '1981', '1972', '1994', '1986', '1979', '1977', '1978',\n",
       "       '1983', '1985', '2000', '1973', '1995', '1975', '1997', '1993',\n",
       "       '1990', '1969', '2001', '2002', '2009', '2019', '1999', '1971',\n",
       "       '2004', '1980', '1976', '1992', '1962', '2012', '2010', '2008',\n",
       "       '2014', '2006', '1974', '1998', '1996', '2013', '1987', '2011',\n",
       "       '2003', '1991', '1982', '1989', '2018', '1988', '1970', '2016',\n",
       "       '1968', '1967', '1957', '2017', '2007', '1984', '2015', '1966',\n",
       "       '1967/2017', '1974/2017', '1997/2017', '1982/2017', '1985/2017',\n",
       "       '1972/2017', '1996/2017', '1995/2017', '1988/2017', '2006/2017',\n",
       "       '1971/2017', '2012/2017', '1970/2017', '1977/2017', '1989/2017',\n",
       "       '1979/2017', '2002/2017', '1976/2017', '1987/2017', '2000/2017',\n",
       "       '2001/2017', '1965', '2004/2017', '1999/2017', '1996/2016',\n",
       "       '1966/2016', '1991/2016', '1968/2016', '1995/2016', '1962/2016',\n",
       "       '2003/2016', '1994/2016', '1979/2016', '1971/2016', '1969/2016',\n",
       "       '1978/2016', '1997/2016', '1970/2016', '2008/2016', '1982/2016',\n",
       "       '1973/2016', '1990/2016', '2002/2016', '1975/2016', '1986/2016',\n",
       "       '1998/2016', '1972/2016', '1989/2016', '1964/2016', '1977/2016',\n",
       "       '1980/2016', '1987/2016', '2011/2016', '1965/2016', '1983/2016',\n",
       "       '1976/2016', '2009/2016', '2000/2016', '1960/2016', '2006/2016',\n",
       "       '1984/2016', '2010/2016', '1988/2016', '2012/2016', '1981/2016',\n",
       "       '1999/2016', '1964/2015', '2014/2016', '2013/2016', '1991/2015',\n",
       "       '1980/2015', '1996/2015', '1995/2015', '¢ 2015', '1990/2015',\n",
       "       '1968/2015', '1970/2015', '1994/2015', '1962/2015', '1997/2015',\n",
       "       '1979/2015', '1982/2015', '1998/2015', '1999/2015', '1978/2015',\n",
       "       '1976/2015', '2004/2015', '2008/2015', '1971/2015', '1989/2015',\n",
       "       '1981/2015', '1983/2015', '1984/2015', '1977/2015', '1992/2015',\n",
       "       '1985/2015', '2011/2015', '1972/2015', '1971/2014', '1965/2015',\n",
       "       '1987/2015', '1978/2014', '1997/2014', '1992/2014', '2004/2014',\n",
       "       '1980/2014', '1993/2014', '2002/2014', '1988/2014', '1969/2014',\n",
       "       '1996/2014', '1982/2014', '1999/2014', '1994/2014', '2005/2014',\n",
       "       '1998/2014', '1995/2014', '2011/2014', '2001/2014', '1981/2014',\n",
       "       '1985/2014', '2003/2014', '1970/2014', '¢ 2014', '2000/2014',\n",
       "       '1983/2014', '2007/2014', '1991/2014', '1973/2014', '1968/2014',\n",
       "       '1989/2014', '1968/2013', '1990/2013', '1972/2014', '1983/2013',\n",
       "       '2003/2013', '1993/2013', '¢ 2013', '2002/2013', '1981/2013',\n",
       "       '1978/2013', '2000/2013', '1996/2013', '1971/2013', '1985/2013',\n",
       "       '1967/2013', '2008/2013', '1997/2013', '1988/2013', '1980/2013',\n",
       "       '1974/2013', '1991/2013', '¢ 1977/2013', '1979/2013', '1994/2012',\n",
       "       '¢ 2002/2012', '¢ 2012', '2006/2013', '¢ 2009/2012', '¢ 1997/2013',\n",
       "       '¢ 1992/2012', '2001/2012', '2000/2012', '1996/2012', '1995/2012',\n",
       "       '2002/2012', '1992/2012', '1998/2012', '1987/2012', '1977/2012',\n",
       "       '2003/2012', '1986/2012', '1984/2012', '1968/2012', '1990/2012',\n",
       "       '¢ 1985/2012', '¢ 1971/2012', '1981/2012', '2011/2012',\n",
       "       '1988/2012', '¢ 2011', '2000/2011', '¢ 1971/2011', '1977/2011',\n",
       "       '1981/2011', '1971/2011', '¢ 1973/2011', '¢ 1979/2011',\n",
       "       '1970/2011', '¢ 1977/2011', '¢ 2010', '¢ 1990/2011', '2000/2010',\n",
       "       '2002/2010', '¢ 1970/2010', '1985/2010', '1994/2010', '¢ 2009',\n",
       "       '1968/2009', '1971/2009', '¢ 1992/2009', '1993/2009',\n",
       "       '¢ 1988/2009', '¢ 1970/2009', '¢ 1969/2009', '1969/2009',\n",
       "       '1967/2009', '1966/2009', '¢ 1965/2009', '1964/2009',\n",
       "       '¢ 1964/2009', '1963/2009', '1994/2009', '¢ 2008', '¢ 1994/2009',\n",
       "       '1959/2009', '1991/2009', '1972/2009', '1996/2009', '¢ 1991/2009',\n",
       "       '1985/2009', '¢ 1995/2009', '2002/2009', '¢ 1974/2009',\n",
       "       '1989/2009', '¢ ', '¢ 1995/2008', '¢ 1997/2008', '¢ 2007',\n",
       "       '¢ 1998/2008', '1979/2008', '¢ 1980/2008', '¢ 2006/2008',\n",
       "       '2007/2008', '1992/2008', '¢ 1970/2008', '2005/2008', '1998/2008',\n",
       "       '1978/2008', '2006/2008', '1983/2008', '¢ 2005/2008', '1980/2008',\n",
       "       '1977/2008', '¢ 2007/2008', '¢ 1965/2008', '1969/2008',\n",
       "       '¢ 1996/2008', '¢ 1967/2008', '¢ 1985/2008', '2003/2008',\n",
       "       '1994/2007', '¢ 2001/2008', '¢ 1977/2008', '¢ 1992/2008',\n",
       "       '¢ 1981/2007', '¢ 1979/2007', '¢ 1970/2007', '¢ 2006/2007',\n",
       "       '¢ 2003/2007', '2002/2007', '¢ 1985/2007', '2004/2007',\n",
       "       '1980/2007', '¢ 2000/2007', '1997/2007', '2006/2007', '1979/2007',\n",
       "       '¢ 1977/2007', '¢ 1974/2007', '1974/2006', '¢ 1976/2007',\n",
       "       '¢ 1982/2007', '1972/2007', '¢ 1987/2007', '1985/2007', '¢ 1995',\n",
       "       '¢ 1980/2007', '1973/2007', '¢ 1967/2007', '¢ 1998/2007',\n",
       "       '1969/2007', '¢ 1989/2007', '1990/2007', '¢ 1983/2006',\n",
       "       '1988/2007', '¢ 2006', '1993/2007', '1967/2007', '¢ 2004/2007',\n",
       "       '1971/2007', '¢ 1971/2007', '2003/2007', '¢ 2005/2007',\n",
       "       '¢ 2005/2006', '1991/2007', '¢ 1977/2006', '¢ 1996/2007',\n",
       "       '2001/2007', '¢ 1971/2006', '2005/2006', '¢ 1965/2006',\n",
       "       '1994/2006', '¢ 1996/2006', '¢ 2002/2006', '¢ 1999/2006',\n",
       "       '¢ 1969/2006', '¢ 1976/2006', '¢ 1994/2006', '1973/2006',\n",
       "       '1984/2006', '2001/2006', '1991/2006', '1985/2006', '1999/2006',\n",
       "       '1996/2006', '1981/2006', '1972/2006', '¢ 2004/2006', '2002/2006',\n",
       "       '2005', '¢ 2005', '1977/2005', '¢ 1982/2005', '¢ 1981/2006',\n",
       "       '1971/2005', '1997/2006', '2001/2005', '¢ 1966/2006',\n",
       "       '¢ 2004/2005', '¢ 1989/2005', '¢ 2002/2005', '1980/2005',\n",
       "       '¢ 1992/2005', '¢ 2000/2005', '¢ 1990/2005', '1998/2005',\n",
       "       '1984/2005', '2004/2005', '1974/2005', '¢ 1996/2005', '2000/2005',\n",
       "       '¢ 2001/2005', '1976/2005', '2003/2005', '1969/2005', '1970/2005',\n",
       "       '¢ 2004', '¢ 1993/2005', '1987/2005', '¢ 1979/2005', '¢ 1986/2005',\n",
       "       '1992/2005', '1985/1988', '¢ 1971/2005', '1989/2005', '1964',\n",
       "       '¢ 1977/2004', '¢ 1989/2004', '1971/2004', '¢ 2003/2005',\n",
       "       '¢ 1988/2004', '¢ 2002/2004', '¢ 1986/2004', '¢ 2003/2004',\n",
       "       '1997/2004', '1980/2004', '¢ 1980/2004', '¢ 1994/2004',\n",
       "       '¢ 2001/2004', '¢ 1970/2004', '¢ 1968/2004', '¢ 1975/2004',\n",
       "       '1975/2004', '¢ 1974/2004', '¢ 1982/2004', '¢ 1999/2004', '¢ 2003',\n",
       "       '¢ 1993/2004', '1990/2004', '¢ 2000/2004', '1981/2004',\n",
       "       '1988/2004', '1994/2004', '1996/2004', '1998/2004', '1970/2003',\n",
       "       '1977/2004', '¢ 1995/2003', '¢ 1997/2004', '¢ 1995/2004',\n",
       "       '¢ 1963/2004', '1973/2004', '¢ 1962/2004', '1980/1982',\n",
       "       '2001/2004', '¢ 1971/2004', '¢ 1974/2003', '¢ 1996/2003',\n",
       "       '1971/1983', '1992/2003', '¢ 1988/2003', '1968/2004', '1972/2003',\n",
       "       '¢ 2000/2003', '¢ 1991/2003', '¢ 2002/2003', '¢ 1982/2003',\n",
       "       '1968/2003', '¢ 2001/2003', '1988/2002', '1974/2003', '1981/2003',\n",
       "       '¢ 1998/2003', '¢ 1969/2003', '¢ 1989/2003', '¢ 2002',\n",
       "       '¢ 1981/2003', '1980/2003', '¢ 1987/1997', '¢ 1996/1997', '¢ 1978',\n",
       "       '¢ 1975/2003', '1999/2003', '¢ 1996', '¢ 1999/2003', '1990/1992',\n",
       "       '¢ 1974/1976', '¢ 1997/2002', '1996/2003', '1966/2002',\n",
       "       '¢ 1971/2003', '1994/2002', '1975/2002', '1970/2002', '1995/2002',\n",
       "       '¢ 2000/2002', '1972/2002', '¢ 2001', '¢ 2001/2002', '¢ 1998/2002',\n",
       "       '2001/2002', '¢ 1999', '¢ 1993/2002', '1999/2002', '¢ 2000',\n",
       "       '1998/2002', '¢ 1995/2002', '¢ 1977/2002', '¢ 1960/2002',\n",
       "       '¢ 1979/2002', '1993/2001', '2000/2001', '¢ 1971/2002',\n",
       "       '¢ 1985/2002', '¢ 1999/2001', '1971/2001', '1969/2001',\n",
       "       '1993/2002', '¢ 1981/2001', '¢ 1990/2002', '¢ 1988/2001',\n",
       "       '¢ 1981/2002', '¢ 1987/2001', '¢ 1987/2002', '¢ 1970/2001'],\n",
       "      dtype=object)"
      ]
     },
     "execution_count": 7,
     "metadata": {},
     "output_type": "execute_result"
    }
   ],
   "source": [
    "# A look at all the unique values in the date column\n",
    "df['date'].unique()"
   ]
  },
  {
   "cell_type": "markdown",
   "metadata": {},
   "source": [
    "**In order to clean this up, we should first understand the variability of these values. Again, the ideal value in this column will have a length of 4. So let's find out the various lengths of values in this column.**"
   ]
  },
  {
   "cell_type": "code",
   "execution_count": 8,
   "metadata": {},
   "outputs": [
    {
     "data": {
      "text/plain": [
       "[4, 9, 6, 11, 2]"
      ]
     },
     "execution_count": 8,
     "metadata": {},
     "output_type": "execute_result"
    }
   ],
   "source": [
    "# Unique values in data column\n",
    "date_lengths = []\n",
    "\n",
    "for i in df['date'].unique():\n",
    "    if len(i) not in date_lengths:\n",
    "        date_lengths.append(len(i))\n",
    "\n",
    "date_lengths\n",
    "# These are the various lengths of entries in the date column"
   ]
  },
  {
   "cell_type": "markdown",
   "metadata": {},
   "source": [
    "**Examples of date values with varying lengths**\n",
    "\n",
    "|Length of Date Value|Example|Explanation|\n",
    "|---|---|---|\n",
    "|2|¢|The initial problem here is unclear, and these rows should be dropped from the dataframe|\n",
    "|4|2019|The correct format in which the release date and review date are the same|\n",
    "|6|¢ 2010|The correct format with an unwanted character preceding the correct value|\n",
    "|9|1992/2008|The release/review date. We're interested in the release date, and will drop the review date|\n",
    "|11|¢ 1971/2005|The release date/review date with an unwanted character. Again, we'll only keep the release date|"
   ]
  },
  {
   "cell_type": "markdown",
   "metadata": {},
   "source": [
    "**Let's create a function that will clean each date:**"
   ]
  },
  {
   "cell_type": "code",
   "execution_count": 9,
   "metadata": {},
   "outputs": [],
   "source": [
    "# Create function to clean the dates in the dataframe:\n",
    "\n",
    "def clean_dates(dates):\n",
    "    \n",
    "    # Create empty list in which to store cleaned date values\n",
    "    new_dates = []\n",
    "    \n",
    "    # Begin for loop that will check every date in the column\n",
    "    for date in dates:\n",
    "        \n",
    "        # Append this value, although it's incorrect. We'll deal with it later\n",
    "        if len(date) == 2:\n",
    "            new_dates.append(date)\n",
    "        \n",
    "        # Append all correctly formated values\n",
    "        elif len(date) == 4:\n",
    "            new_dates.append(date)\n",
    "        \n",
    "        # Append only the release date (year)\n",
    "        elif len(date) == 6:\n",
    "            new_dates.append(date[2:])\n",
    "        \n",
    "        # Append only the release date (year)\n",
    "        elif len(date) == 9:\n",
    "            new_dates.append(date[:4])\n",
    "        \n",
    "        # Append only the release date (year)\n",
    "        else:\n",
    "            new_dates.append(date[2:6])\n",
    "            \n",
    "    return new_dates\n",
    "\n",
    "# Call the function and set it equal to a variable\n",
    "release_date = clean_dates(df['date'])\n",
    "\n",
    "# Add new column to our dataframe called 'release_date' with our cleaned data\n",
    "df['release_date'] = release_date\n",
    "\n",
    "# Drop the date column from our dataframe\n",
    "df.drop(columns='date', inplace = True)"
   ]
  },
  {
   "cell_type": "code",
   "execution_count": 10,
   "metadata": {},
   "outputs": [
    {
     "data": {
      "text/plain": [
       "array(['2020', '1981', '1972', '1994', '1986', '1979', '1977', '1978',\n",
       "       '1983', '1985', '2000', '1973', '1995', '1975', '1997', '1993',\n",
       "       '1990', '1969', '2001', '2002', '2009', '2019', '1999', '1971',\n",
       "       '2004', '1980', '1976', '1992', '1962', '2012', '2010', '2008',\n",
       "       '2014', '2006', '1974', '1998', '1996', '2013', '1987', '2011',\n",
       "       '2003', '1991', '1982', '1989', '2018', '1988', '1970', '2016',\n",
       "       '1968', '1967', '1957', '2017', '2007', '1984', '2015', '1966',\n",
       "       '1965', '1964', '1960', '2005', '1963', '1959', '¢ '], dtype=object)"
      ]
     },
     "execution_count": 10,
     "metadata": {},
     "output_type": "execute_result"
    }
   ],
   "source": [
    "# Check to see how to function worked: all data should be in the proper format, except for '¢ '\n",
    "df['release_date'].unique()"
   ]
  },
  {
   "cell_type": "code",
   "execution_count": 11,
   "metadata": {},
   "outputs": [
    {
     "data": {
      "text/plain": [
       "[None,\n",
       " None,\n",
       " None,\n",
       " None,\n",
       " None,\n",
       " None,\n",
       " None,\n",
       " None,\n",
       " None,\n",
       " None,\n",
       " None,\n",
       " None,\n",
       " None,\n",
       " None,\n",
       " None,\n",
       " None,\n",
       " None,\n",
       " None,\n",
       " None,\n",
       " None,\n",
       " None,\n",
       " None,\n",
       " None,\n",
       " None,\n",
       " None,\n",
       " None,\n",
       " None,\n",
       " None,\n",
       " None,\n",
       " None,\n",
       " None,\n",
       " None,\n",
       " None,\n",
       " None,\n",
       " None,\n",
       " None,\n",
       " None,\n",
       " None,\n",
       " None]"
      ]
     },
     "execution_count": 11,
     "metadata": {},
     "output_type": "execute_result"
    }
   ],
   "source": [
    "# Gather all rows with the '¢ ' date and store it in a unique dataframe\n",
    "drop_rows = df[df['release_date'] == '¢ ']\n",
    "\n",
    "# Drop these rows from the dataframe\n",
    "[df.drop(i, inplace = True) for i in drop_rows.index]"
   ]
  },
  {
   "cell_type": "code",
   "execution_count": 12,
   "metadata": {
    "scrolled": true
   },
   "outputs": [
    {
     "data": {
      "text/html": [
       "<div>\n",
       "<style scoped>\n",
       "    .dataframe tbody tr th:only-of-type {\n",
       "        vertical-align: middle;\n",
       "    }\n",
       "\n",
       "    .dataframe tbody tr th {\n",
       "        vertical-align: top;\n",
       "    }\n",
       "\n",
       "    .dataframe thead th {\n",
       "        text-align: right;\n",
       "    }\n",
       "</style>\n",
       "<table border=\"1\" class=\"dataframe\">\n",
       "  <thead>\n",
       "    <tr style=\"text-align: right;\">\n",
       "      <th></th>\n",
       "      <th>album</th>\n",
       "      <th>artist</th>\n",
       "      <th>score</th>\n",
       "      <th>genre</th>\n",
       "      <th>label</th>\n",
       "      <th>author</th>\n",
       "      <th>review</th>\n",
       "      <th>release_date</th>\n",
       "    </tr>\n",
       "  </thead>\n",
       "  <tbody>\n",
       "  </tbody>\n",
       "</table>\n",
       "</div>"
      ],
      "text/plain": [
       "Empty DataFrame\n",
       "Columns: [album, artist, score, genre, label, author, review, release_date]\n",
       "Index: []"
      ]
     },
     "execution_count": 12,
     "metadata": {},
     "output_type": "execute_result"
    }
   ],
   "source": [
    "# Check our work: the command below should return nothing\n",
    "df[df['release_date'] == '¢ ']"
   ]
  },
  {
   "cell_type": "code",
   "execution_count": 13,
   "metadata": {},
   "outputs": [],
   "source": [
    "# Save work back to the datasets folder\n",
    "df.to_csv(r'../datasets/cleaned_reviews.csv')"
   ]
  },
  {
   "cell_type": "markdown",
   "metadata": {},
   "source": [
    "### Functions"
   ]
  },
  {
   "cell_type": "markdown",
   "metadata": {},
   "source": [
    "Create tokenized, stemmed, and lemmatized versions of the dataframes, then save a version of each to the `datasets` folder."
   ]
  },
  {
   "cell_type": "markdown",
   "metadata": {},
   "source": [
    "**Tokenizing Function**"
   ]
  },
  {
   "cell_type": "code",
   "execution_count": null,
   "metadata": {},
   "outputs": [],
   "source": [
    "# The following function will tokenize each document (review) in the corpus\n",
    "def tokenize(dataframe):\n",
    "    \n",
    "    # Instantiate Tokenizer\n",
    "    token = RegexpTokenizer(r'\\w+')\n",
    "    \n",
    "    # tokenize each review in the dataframe\n",
    "    review_tokens = []\n",
    "    for review in dataframe['review']:\n",
    "        r = token.tokenize(review.lower())\n",
    "        review_tokens.append(r)\n",
    "\n",
    "    # tokenize each artist in the dataframe\n",
    "    artist_tokens = []\n",
    "    for artist in dataframe['artist']:\n",
    "        a = token.tokenize(artist)\n",
    "        artist_tokens.append(a)\n",
    "    \n",
    "    # tokenize each label in the dataframe\n",
    "    label_tokens = []\n",
    "    for label in dataframe['label']:\n",
    "        l = token.tokenize(label)\n",
    "        label_tokens.append(l)\n",
    "    \n",
    "    # tokenize each author in the dataframe\n",
    "    author_tokens = []\n",
    "    for author in dataframe['author']:\n",
    "        au = token.tokenize(author)\n",
    "        author_tokens.append(au)\n",
    "    \n",
    "    # Replace all columns with new lists\n",
    "    dataframe['review'] = review_tokens\n",
    "    dataframe['artist'] = artist_tokens\n",
    "    dataframe['label'] = label_tokens\n",
    "    dataframe['author'] = author_tokens\n",
    "        \n",
    "    return dataframe\n",
    "\n",
    "# Call the function and assign it to a new variable, check head of new tokenized dataframe\n",
    "tokenized_reviews = tokenize(df)\n",
    "\n",
    "# Save file as csv back to jupyter notebook\n",
    "tokenized_reviews.to_csv(r'../datasets/other-datasets/cleaned_reviews_tokenized.csv')"
   ]
  },
  {
   "cell_type": "markdown",
   "metadata": {},
   "source": [
    "**Lemmatizing Function**"
   ]
  },
  {
   "cell_type": "code",
   "execution_count": null,
   "metadata": {},
   "outputs": [],
   "source": [
    "def lemmatize_df(dataframe):\n",
    "    \n",
    "    # Instantiate lemmatizer\n",
    "    lemmatizer = WordNetLemmatizer()\n",
    "    \n",
    "    # Start with an empty list\n",
    "    lemms = []\n",
    "    \n",
    "    # Create a nested for loop\n",
    "    for review in dataframe['review']:\n",
    "        \n",
    "        new_review = []\n",
    "        \n",
    "        for token in review:\n",
    "            \n",
    "            lemma = lemmatizer.lemmatize(token)\n",
    "            new_review.append(lemma)\n",
    "            \n",
    "        lemms.append(new_review)\n",
    "            \n",
    "    \n",
    "    # Replace original columns with lemmatized tokens\n",
    "    dataframe['review'] = lemms\n",
    "    \n",
    "    return dataframe\n",
    "\n",
    "# Call function and assign it to a new variable\n",
    "lemmatized_reviews = lemmatize_df(tokenized_reviews)\n",
    "\n",
    "# Save file as csv back to jupyter notebook\n",
    "lemmatized_reviews.to_csv(r'../datasets/other-datasets/cleaned_reviews_lemmatized.csv')"
   ]
  },
  {
   "cell_type": "markdown",
   "metadata": {},
   "source": [
    "**Stemming Function**"
   ]
  },
  {
   "cell_type": "code",
   "execution_count": null,
   "metadata": {},
   "outputs": [],
   "source": [
    "def stem_df(dataframe):\n",
    "    \n",
    "    # Instantiate stemmer\n",
    "    stemmer = PorterStemmer()\n",
    "    \n",
    "    # Start with an empty list\n",
    "    stems = []\n",
    "    \n",
    "    # Create a nested for loop\n",
    "    for review in dataframe['review']:\n",
    "        \n",
    "        new_review = []\n",
    "        \n",
    "        for token in review:\n",
    "            \n",
    "            stem = stemmer.stem(token)\n",
    "            new_review.append(stem)\n",
    "            \n",
    "        stems.append(new_review)\n",
    "            \n",
    "    \n",
    "    # Replace original columns with lemmatized tokens\n",
    "    dataframe['review'] = stems\n",
    "    \n",
    "    return dataframe\n",
    "\n",
    "# Call function and assign it to a variable\n",
    "stemmed_reviews = stem_df(tokenized_reviews)\n",
    "\n",
    "# Save file as csv back to jupyter notebook\n",
    "stemmed_reviews.to_csv(r'../datasets/other-datasets/cleaned_reviews_stemmed.csv')"
   ]
  },
  {
   "cell_type": "markdown",
   "metadata": {},
   "source": [
    "### Part II: EDA"
   ]
  },
  {
   "cell_type": "markdown",
   "metadata": {},
   "source": [
    "### Score"
   ]
  },
  {
   "cell_type": "code",
   "execution_count": 14,
   "metadata": {},
   "outputs": [
    {
     "data": {
      "text/html": [
       "<div>\n",
       "<style scoped>\n",
       "    .dataframe tbody tr th:only-of-type {\n",
       "        vertical-align: middle;\n",
       "    }\n",
       "\n",
       "    .dataframe tbody tr th {\n",
       "        vertical-align: top;\n",
       "    }\n",
       "\n",
       "    .dataframe thead th {\n",
       "        text-align: right;\n",
       "    }\n",
       "</style>\n",
       "<table border=\"1\" class=\"dataframe\">\n",
       "  <thead>\n",
       "    <tr style=\"text-align: right;\">\n",
       "      <th></th>\n",
       "      <th>album</th>\n",
       "      <th>artist</th>\n",
       "      <th>score</th>\n",
       "      <th>genre</th>\n",
       "      <th>label</th>\n",
       "      <th>author</th>\n",
       "      <th>review</th>\n",
       "      <th>release_date</th>\n",
       "    </tr>\n",
       "  </thead>\n",
       "  <tbody>\n",
       "    <tr>\n",
       "      <th>0</th>\n",
       "      <td>Set My Heart on Fire Immediately</td>\n",
       "      <td>Perfume Genius</td>\n",
       "      <td>9.0</td>\n",
       "      <td>Pop/R&amp;B</td>\n",
       "      <td>Matador</td>\n",
       "      <td>Madison Bloom</td>\n",
       "      <td>Each Perfume Genius album is a metamorphosis. ...</td>\n",
       "      <td>2020</td>\n",
       "    </tr>\n",
       "    <tr>\n",
       "      <th>1</th>\n",
       "      <td>WILL THIS MAKE ME GOOD</td>\n",
       "      <td>Nick Hakim</td>\n",
       "      <td>6.0</td>\n",
       "      <td>Rock</td>\n",
       "      <td>ATO</td>\n",
       "      <td>Jonah Bromwich</td>\n",
       "      <td>Nick Hakim’s compulsively listenable debut alb...</td>\n",
       "      <td>2020</td>\n",
       "    </tr>\n",
       "    <tr>\n",
       "      <th>2</th>\n",
       "      <td>Every Sun, Every Moon</td>\n",
       "      <td>I'm Glad It's You</td>\n",
       "      <td>7.4</td>\n",
       "      <td>Rock</td>\n",
       "      <td>6131</td>\n",
       "      <td>Arielle Gordon</td>\n",
       "      <td>Grief casts a shadow over the past. It lends n...</td>\n",
       "      <td>2020</td>\n",
       "    </tr>\n",
       "    <tr>\n",
       "      <th>3</th>\n",
       "      <td>The Quickening</td>\n",
       "      <td>Jim WhiteMarisa Anderson</td>\n",
       "      <td>7.8</td>\n",
       "      <td>Rock</td>\n",
       "      <td>Thrill Jockey</td>\n",
       "      <td>Jesse Jarnow</td>\n",
       "      <td>The Quickening opens with an ecstatic swirl of...</td>\n",
       "      <td>2020</td>\n",
       "    </tr>\n",
       "    <tr>\n",
       "      <th>4</th>\n",
       "      <td>Dare</td>\n",
       "      <td>The Human League</td>\n",
       "      <td>9.1</td>\n",
       "      <td>Electronic</td>\n",
       "      <td>Virgin</td>\n",
       "      <td>Brad Nelson</td>\n",
       "      <td>In late 1980, the singer Philip Oakey was sche...</td>\n",
       "      <td>1981</td>\n",
       "    </tr>\n",
       "  </tbody>\n",
       "</table>\n",
       "</div>"
      ],
      "text/plain": [
       "                              album                    artist  score  \\\n",
       "0  Set My Heart on Fire Immediately            Perfume Genius    9.0   \n",
       "1            WILL THIS MAKE ME GOOD                Nick Hakim    6.0   \n",
       "2             Every Sun, Every Moon         I'm Glad It's You    7.4   \n",
       "3                    The Quickening  Jim WhiteMarisa Anderson    7.8   \n",
       "4                              Dare          The Human League    9.1   \n",
       "\n",
       "        genre          label          author  \\\n",
       "0     Pop/R&B        Matador   Madison Bloom   \n",
       "1        Rock            ATO  Jonah Bromwich   \n",
       "2        Rock           6131  Arielle Gordon   \n",
       "3        Rock  Thrill Jockey    Jesse Jarnow   \n",
       "4  Electronic         Virgin     Brad Nelson   \n",
       "\n",
       "                                              review  release_date  \n",
       "0  Each Perfume Genius album is a metamorphosis. ...          2020  \n",
       "1  Nick Hakim’s compulsively listenable debut alb...          2020  \n",
       "2  Grief casts a shadow over the past. It lends n...          2020  \n",
       "3  The Quickening opens with an ecstatic swirl of...          2020  \n",
       "4  In late 1980, the singer Philip Oakey was sche...          1981  "
      ]
     },
     "execution_count": 14,
     "metadata": {},
     "output_type": "execute_result"
    }
   ],
   "source": [
    "# Load in csv so as not to run the above cells\n",
    "df = pd.read_csv('../datasets/other-datasets/cleaned_reviews.csv')\n",
    "\n",
    "# \n",
    "df.drop(columns='Unnamed: 0', inplace = True)\n",
    "df.head()"
   ]
  },
  {
   "cell_type": "code",
   "execution_count": 15,
   "metadata": {},
   "outputs": [
    {
     "data": {
      "text/plain": [
       "album            object\n",
       "artist           object\n",
       "score           float64\n",
       "genre            object\n",
       "label            object\n",
       "author           object\n",
       "review           object\n",
       "release_date      int64\n",
       "dtype: object"
      ]
     },
     "execution_count": 15,
     "metadata": {},
     "output_type": "execute_result"
    }
   ],
   "source": [
    "# Check datatypes\n",
    "df.dtypes"
   ]
  },
  {
   "cell_type": "code",
   "execution_count": 16,
   "metadata": {},
   "outputs": [
    {
     "data": {
      "text/plain": [
       "count    19165.000000\n",
       "mean         7.065583\n",
       "std          1.225540\n",
       "min          0.000000\n",
       "25%          6.500000\n",
       "50%          7.300000\n",
       "75%          7.800000\n",
       "max         10.000000\n",
       "Name: score, dtype: float64"
      ]
     },
     "execution_count": 16,
     "metadata": {},
     "output_type": "execute_result"
    }
   ],
   "source": [
    "# Take a look at mean, standard deviation, 25th and 75th percentile of pitchfork scores\n",
    "df['score'].describe()"
   ]
  },
  {
   "cell_type": "code",
   "execution_count": 17,
   "metadata": {},
   "outputs": [
    {
     "data": {
      "image/png": "[encoded data removed]",
      "text/plain": [
       "<Figure size 864x432 with 1 Axes>"
      ]
     },
     "metadata": {
      "needs_background": "light"
     },
     "output_type": "display_data"
    }
   ],
   "source": [
    "# Plot a histogram of all scores\n",
    "\n",
    "plt.figure(figsize = (12, 6))\n",
    "plt.hist(df['score']);\n",
    "plt.title('Distribution of Pitchfork Scores', size = 20);"
   ]
  },
  {
   "cell_type": "code",
   "execution_count": 18,
   "metadata": {
    "scrolled": true
   },
   "outputs": [
    {
     "data": {
      "image/png": "[encoded data removed]",
      "text/plain": [
       "<Figure size 432x288 with 1 Axes>"
      ]
     },
     "metadata": {
      "needs_background": "light"
     },
     "output_type": "display_data"
    }
   ],
   "source": [
    "# Generate a box plot of all scores\n",
    "\n",
    "sns.boxplot(df['score']);"
   ]
  },
  {
   "cell_type": "markdown",
   "metadata": {},
   "source": [
    "**Ouliers**\n",
    "\n",
    "There are 110 \"positive\" outliers (scores greater than 9.75) and 818 \"negative\" outliers (less than 4.55)."
   ]
  },
  {
   "cell_type": "code",
   "execution_count": 43,
   "metadata": {},
   "outputs": [
    {
     "data": {
      "text/plain": [
       "110"
      ]
     },
     "execution_count": 43,
     "metadata": {},
     "output_type": "execute_result"
    }
   ],
   "source": [
    "# Positive outliers\n",
    "len(df[df['score'] > 9.75])"
   ]
  },
  {
   "cell_type": "code",
   "execution_count": 44,
   "metadata": {},
   "outputs": [
    {
     "data": {
      "text/plain": [
       "818"
      ]
     },
     "execution_count": 44,
     "metadata": {},
     "output_type": "execute_result"
    }
   ],
   "source": [
    "# Negative outliers\n",
    "len(df[df['score'] < 4.55])"
   ]
  },
  {
   "cell_type": "code",
   "execution_count": 45,
   "metadata": {},
   "outputs": [
    {
     "data": {
      "text/plain": [
       "928"
      ]
     },
     "execution_count": 45,
     "metadata": {},
     "output_type": "execute_result"
    }
   ],
   "source": [
    "# Total outliers\n",
    "len(df[df['score'] > 9.75]) + len(df[df['score'] < 4.55])"
   ]
  },
  {
   "cell_type": "markdown",
   "metadata": {},
   "source": [
    "### Genre"
   ]
  },
  {
   "cell_type": "code",
   "execution_count": 19,
   "metadata": {},
   "outputs": [
    {
     "data": {
      "text/plain": [
       "array(['Pop/R&B', 'Rock', 'Electronic', 'Rap', 'Folk/Country',\n",
       "       'Experimental', 'Jazz', 'Global', 'Metal'], dtype=object)"
      ]
     },
     "execution_count": 19,
     "metadata": {},
     "output_type": "execute_result"
    }
   ],
   "source": [
    "# Check the list of unique genres in our dataframe\n",
    "df['genre'].unique()"
   ]
  },
  {
   "cell_type": "code",
   "execution_count": 20,
   "metadata": {},
   "outputs": [
    {
     "name": "stdout",
     "output_type": "stream",
     "text": [
      "Average pitchfork score for Pop/R&B albums is 7.0\n",
      "Average pitchfork score for Rock albums is 7.0\n",
      "Average pitchfork score for Electronic albums is 7.0\n",
      "Average pitchfork score for Rap albums is 7.0\n",
      "Average pitchfork score for Folk/Country albums is 7.2\n",
      "Average pitchfork score for Experimental albums is 7.4\n",
      "Average pitchfork score for Jazz albums is 7.6\n",
      "Average pitchfork score for Global albums is 7.4\n",
      "Average pitchfork score for Metal albums is 7.1\n"
     ]
    }
   ],
   "source": [
    "# Check average pitchfork score by genre\n",
    "\n",
    "print(f\"Average pitchfork score for Pop/R&B albums is {round(df[df['genre'] == 'Pop/R&B']['score'].mean(), 1)}\")\n",
    "print(f\"Average pitchfork score for Rock albums is {round(df[df['genre'] == 'Rock']['score'].mean(), 1)}\")\n",
    "print(f\"Average pitchfork score for Electronic albums is {round(df[df['genre'] == 'Electronic']['score'].mean(), 1)}\")\n",
    "print(f\"Average pitchfork score for Rap albums is {round(df[df['genre'] == 'Rap']['score'].mean(), 1)}\")\n",
    "print(f\"Average pitchfork score for Folk/Country albums is {round(df[df['genre'] == 'Folk/Country']['score'].mean(), 1)}\")\n",
    "print(f\"Average pitchfork score for Experimental albums is {round(df[df['genre'] == 'Experimental']['score'].mean(), 1)}\")\n",
    "print(f\"Average pitchfork score for Jazz albums is {round(df[df['genre'] == 'Jazz']['score'].mean(), 1)}\")\n",
    "print(f\"Average pitchfork score for Global albums is {round(df[df['genre'] == 'Global']['score'].mean(), 1)}\")\n",
    "print(f\"Average pitchfork score for Metal albums is {round(df[df['genre'] == 'Metal']['score'].mean(), 1)}\")"
   ]
  },
  {
   "cell_type": "code",
   "execution_count": 21,
   "metadata": {},
   "outputs": [
    {
     "data": {
      "image/png": "[encoded data removed]",
      "text/plain": [
       "<Figure size 864x432 with 1 Axes>"
      ]
     },
     "metadata": {
      "needs_background": "light"
     },
     "output_type": "display_data"
    }
   ],
   "source": [
    "# Make a bar chart of average scores by genre\n",
    "\n",
    "avg_score_by_genre = [round(df[df['genre'] == 'Pop/R&B']['score'].mean(), 1),\n",
    "                      round(df[df['genre'] == 'Rock']['score'].mean(), 1), \n",
    "                      round(df[df['genre'] == 'Electronic']['score'].mean(), 1),\n",
    "                      round(df[df['genre'] == 'Rap']['score'].mean(), 1),\n",
    "                      round(df[df['genre'] == 'Folk/Country']['score'].mean(), 1),\n",
    "                      round(df[df['genre'] == 'Experimental']['score'].mean(), 1),\n",
    "                      round(df[df['genre'] == 'Jazz']['score'].mean(), 1),\n",
    "                      round(df[df['genre'] == 'Global']['score'].mean(), 1),\n",
    "                      round(df[df['genre'] == 'Metal']['score'].mean(), 1)]\n",
    "\n",
    "plt.figure(figsize = (12, 6))\n",
    "plt.bar(df['genre'].unique(), avg_score_by_genre)\n",
    "plt.title('Average Score by Genre', size = 20)\n",
    "plt.xlabel('Genre', size = 20)\n",
    "plt.ylabel('Score', size = 20);"
   ]
  },
  {
   "cell_type": "code",
   "execution_count": 22,
   "metadata": {},
   "outputs": [
    {
     "data": {
      "image/png": "[encoded data removed]",
      "text/plain": [
       "<Figure size 1152x576 with 1 Axes>"
      ]
     },
     "metadata": {
      "needs_background": "light"
     },
     "output_type": "display_data"
    }
   ],
   "source": [
    "# Generate one graph of box plots of scores by genre\n",
    "\n",
    "scores_by_genre = [df[df['genre'] == 'Pop/R&B']['score'],\n",
    "                   df[df['genre'] == 'Rock']['score'], \n",
    "                   df[df['genre'] == 'Electronic']['score'],\n",
    "                   df[df['genre'] == 'Rap']['score'],\n",
    "                   df[df['genre'] == 'Folk/Country']['score'],\n",
    "                   df[df['genre'] == 'Experimental']['score'],\n",
    "                   df[df['genre'] == 'Jazz']['score'],\n",
    "                   df[df['genre'] == 'Global']['score'],\n",
    "                   df[df['genre'] == 'Metal']['score']]\n",
    "\n",
    "plt.figure(figsize = (16, 8))\n",
    "sns.boxplot(x = 'genre', y = 'score', data = df)\n",
    "plt.xlabel('Genre', size = 20)\n",
    "plt.ylabel('Score', size = 20)\n",
    "plt.title('Boxplots of Pitchfork Scores by Genre', size = 20);"
   ]
  },
  {
   "cell_type": "code",
   "execution_count": 23,
   "metadata": {},
   "outputs": [
    {
     "data": {
      "text/plain": [
       "Rock            7477\n",
       "Electronic      4146\n",
       "Rap             1969\n",
       "Experimental    1945\n",
       "Pop/R&B         1483\n",
       "Folk/Country     812\n",
       "Metal            802\n",
       "Jazz             341\n",
       "Global           190\n",
       "Name: genre, dtype: int64"
      ]
     },
     "execution_count": 23,
     "metadata": {},
     "output_type": "execute_result"
    }
   ],
   "source": [
    "# Check to see how many reviews there are by genre\n",
    "df['genre'].value_counts()"
   ]
  },
  {
   "cell_type": "code",
   "execution_count": 24,
   "metadata": {},
   "outputs": [
    {
     "data": {
      "image/png": "[encoded data removed]",
      "text/plain": [
       "<Figure size 1008x504 with 1 Axes>"
      ]
     },
     "metadata": {
      "needs_background": "light"
     },
     "output_type": "display_data"
    }
   ],
   "source": [
    "# Make a bar graph of the number of reviews by genre\n",
    "\n",
    "plt.figure(figsize = (14, 7))\n",
    "plt.bar(df['genre'].unique(), df['genre'].value_counts())\n",
    "plt.title('Number of Reviews by Genre', size = 20)\n",
    "plt.xlabel('Genre', size = 15)\n",
    "plt.ylabel('Number of Reviews', size = 12);"
   ]
  },
  {
   "cell_type": "markdown",
   "metadata": {},
   "source": [
    "### Year"
   ]
  },
  {
   "cell_type": "code",
   "execution_count": 25,
   "metadata": {},
   "outputs": [
    {
     "data": {
      "text/html": [
       "<div>\n",
       "<style scoped>\n",
       "    .dataframe tbody tr th:only-of-type {\n",
       "        vertical-align: middle;\n",
       "    }\n",
       "\n",
       "    .dataframe tbody tr th {\n",
       "        vertical-align: top;\n",
       "    }\n",
       "\n",
       "    .dataframe thead th {\n",
       "        text-align: right;\n",
       "    }\n",
       "</style>\n",
       "<table border=\"1\" class=\"dataframe\">\n",
       "  <thead>\n",
       "    <tr style=\"text-align: right;\">\n",
       "      <th></th>\n",
       "      <th>album</th>\n",
       "      <th>artist</th>\n",
       "      <th>score</th>\n",
       "      <th>genre</th>\n",
       "      <th>label</th>\n",
       "      <th>author</th>\n",
       "      <th>review</th>\n",
       "      <th>release_date</th>\n",
       "    </tr>\n",
       "  </thead>\n",
       "  <tbody>\n",
       "    <tr>\n",
       "      <th>0</th>\n",
       "      <td>Set My Heart on Fire Immediately</td>\n",
       "      <td>Perfume Genius</td>\n",
       "      <td>9.0</td>\n",
       "      <td>Pop/R&amp;B</td>\n",
       "      <td>Matador</td>\n",
       "      <td>Madison Bloom</td>\n",
       "      <td>Each Perfume Genius album is a metamorphosis. ...</td>\n",
       "      <td>2020</td>\n",
       "    </tr>\n",
       "    <tr>\n",
       "      <th>1</th>\n",
       "      <td>WILL THIS MAKE ME GOOD</td>\n",
       "      <td>Nick Hakim</td>\n",
       "      <td>6.0</td>\n",
       "      <td>Rock</td>\n",
       "      <td>ATO</td>\n",
       "      <td>Jonah Bromwich</td>\n",
       "      <td>Nick Hakim’s compulsively listenable debut alb...</td>\n",
       "      <td>2020</td>\n",
       "    </tr>\n",
       "    <tr>\n",
       "      <th>2</th>\n",
       "      <td>Every Sun, Every Moon</td>\n",
       "      <td>I'm Glad It's You</td>\n",
       "      <td>7.4</td>\n",
       "      <td>Rock</td>\n",
       "      <td>6131</td>\n",
       "      <td>Arielle Gordon</td>\n",
       "      <td>Grief casts a shadow over the past. It lends n...</td>\n",
       "      <td>2020</td>\n",
       "    </tr>\n",
       "    <tr>\n",
       "      <th>3</th>\n",
       "      <td>The Quickening</td>\n",
       "      <td>Jim WhiteMarisa Anderson</td>\n",
       "      <td>7.8</td>\n",
       "      <td>Rock</td>\n",
       "      <td>Thrill Jockey</td>\n",
       "      <td>Jesse Jarnow</td>\n",
       "      <td>The Quickening opens with an ecstatic swirl of...</td>\n",
       "      <td>2020</td>\n",
       "    </tr>\n",
       "    <tr>\n",
       "      <th>4</th>\n",
       "      <td>Dare</td>\n",
       "      <td>The Human League</td>\n",
       "      <td>9.1</td>\n",
       "      <td>Electronic</td>\n",
       "      <td>Virgin</td>\n",
       "      <td>Brad Nelson</td>\n",
       "      <td>In late 1980, the singer Philip Oakey was sche...</td>\n",
       "      <td>1981</td>\n",
       "    </tr>\n",
       "  </tbody>\n",
       "</table>\n",
       "</div>"
      ],
      "text/plain": [
       "                              album                    artist  score  \\\n",
       "0  Set My Heart on Fire Immediately            Perfume Genius    9.0   \n",
       "1            WILL THIS MAKE ME GOOD                Nick Hakim    6.0   \n",
       "2             Every Sun, Every Moon         I'm Glad It's You    7.4   \n",
       "3                    The Quickening  Jim WhiteMarisa Anderson    7.8   \n",
       "4                              Dare          The Human League    9.1   \n",
       "\n",
       "        genre          label          author  \\\n",
       "0     Pop/R&B        Matador   Madison Bloom   \n",
       "1        Rock            ATO  Jonah Bromwich   \n",
       "2        Rock           6131  Arielle Gordon   \n",
       "3        Rock  Thrill Jockey    Jesse Jarnow   \n",
       "4  Electronic         Virgin     Brad Nelson   \n",
       "\n",
       "                                              review  release_date  \n",
       "0  Each Perfume Genius album is a metamorphosis. ...          2020  \n",
       "1  Nick Hakim’s compulsively listenable debut alb...          2020  \n",
       "2  Grief casts a shadow over the past. It lends n...          2020  \n",
       "3  The Quickening opens with an ecstatic swirl of...          2020  \n",
       "4  In late 1980, the singer Philip Oakey was sche...          1981  "
      ]
     },
     "execution_count": 25,
     "metadata": {},
     "output_type": "execute_result"
    }
   ],
   "source": [
    "df.head()"
   ]
  },
  {
   "cell_type": "code",
   "execution_count": 26,
   "metadata": {
    "scrolled": true
   },
   "outputs": [
    {
     "data": {
      "text/html": [
       "<div>\n",
       "<style scoped>\n",
       "    .dataframe tbody tr th:only-of-type {\n",
       "        vertical-align: middle;\n",
       "    }\n",
       "\n",
       "    .dataframe tbody tr th {\n",
       "        vertical-align: top;\n",
       "    }\n",
       "\n",
       "    .dataframe thead th {\n",
       "        text-align: right;\n",
       "    }\n",
       "</style>\n",
       "<table border=\"1\" class=\"dataframe\">\n",
       "  <thead>\n",
       "    <tr style=\"text-align: right;\">\n",
       "      <th></th>\n",
       "      <th>album</th>\n",
       "      <th>artist</th>\n",
       "      <th>score</th>\n",
       "      <th>genre</th>\n",
       "      <th>label</th>\n",
       "      <th>author</th>\n",
       "      <th>review</th>\n",
       "    </tr>\n",
       "    <tr>\n",
       "      <th>release_date</th>\n",
       "      <th></th>\n",
       "      <th></th>\n",
       "      <th></th>\n",
       "      <th></th>\n",
       "      <th></th>\n",
       "      <th></th>\n",
       "      <th></th>\n",
       "    </tr>\n",
       "  </thead>\n",
       "  <tbody>\n",
       "    <tr>\n",
       "      <th>1957</th>\n",
       "      <td>Way Out West</td>\n",
       "      <td>Sonny Rollins</td>\n",
       "      <td>8.8</td>\n",
       "      <td>Jazz</td>\n",
       "      <td>Craft</td>\n",
       "      <td>Natalie Weiner</td>\n",
       "      <td>Sonny Rollins doesn’t fear the familiar. He’s ...</td>\n",
       "    </tr>\n",
       "    <tr>\n",
       "      <th>1957</th>\n",
       "      <td>Monk’s Music</td>\n",
       "      <td>Thelonious Monk</td>\n",
       "      <td>9.1</td>\n",
       "      <td>Jazz</td>\n",
       "      <td>Riverside</td>\n",
       "      <td>Ben Ratliff</td>\n",
       "      <td>The summer of 1957 would seem to mark the rede...</td>\n",
       "    </tr>\n",
       "    <tr>\n",
       "      <th>1959</th>\n",
       "      <td>Drums of Passion</td>\n",
       "      <td>Babatunde Olatunji</td>\n",
       "      <td>8.2</td>\n",
       "      <td>Global</td>\n",
       "      <td>Sony</td>\n",
       "      <td>Mia Clarke</td>\n",
       "      <td>Nigerian drummer Babatunde Olatunji enjoyed a ...</td>\n",
       "    </tr>\n",
       "    <tr>\n",
       "      <th>1960</th>\n",
       "      <td>This Is Our Music</td>\n",
       "      <td>Ornette Coleman</td>\n",
       "      <td>9.4</td>\n",
       "      <td>Jazz</td>\n",
       "      <td>Atlantic</td>\n",
       "      <td>Mark Richardson</td>\n",
       "      <td>Ornette Coleman has followed a strange path. M...</td>\n",
       "    </tr>\n",
       "    <tr>\n",
       "      <th>1960</th>\n",
       "      <td>At Last!</td>\n",
       "      <td>Etta James</td>\n",
       "      <td>9.0</td>\n",
       "      <td>Jazz</td>\n",
       "      <td>Jackpot Records</td>\n",
       "      <td>Amanda Petrusich</td>\n",
       "      <td>Anyone trying to reverse-engineer the particul...</td>\n",
       "    </tr>\n",
       "  </tbody>\n",
       "</table>\n",
       "</div>"
      ],
      "text/plain": [
       "                          album              artist  score   genre  \\\n",
       "release_date                                                         \n",
       "1957               Way Out West       Sonny Rollins    8.8    Jazz   \n",
       "1957               Monk’s Music     Thelonious Monk    9.1    Jazz   \n",
       "1959           Drums of Passion  Babatunde Olatunji    8.2  Global   \n",
       "1960          This Is Our Music     Ornette Coleman    9.4    Jazz   \n",
       "1960                   At Last!          Etta James    9.0    Jazz   \n",
       "\n",
       "                        label            author  \\\n",
       "release_date                                      \n",
       "1957                    Craft    Natalie Weiner   \n",
       "1957                Riverside       Ben Ratliff   \n",
       "1959                     Sony        Mia Clarke   \n",
       "1960                 Atlantic   Mark Richardson   \n",
       "1960          Jackpot Records  Amanda Petrusich   \n",
       "\n",
       "                                                         review  \n",
       "release_date                                                     \n",
       "1957          Sonny Rollins doesn’t fear the familiar. He’s ...  \n",
       "1957          The summer of 1957 would seem to mark the rede...  \n",
       "1959          Nigerian drummer Babatunde Olatunji enjoyed a ...  \n",
       "1960          Ornette Coleman has followed a strange path. M...  \n",
       "1960          Anyone trying to reverse-engineer the particul...  "
      ]
     },
     "execution_count": 26,
     "metadata": {},
     "output_type": "execute_result"
    }
   ],
   "source": [
    "df_by_date = df.set_index('release_date')\n",
    "df_by_date.sort_index(inplace = True)\n",
    "df_by_date.head()"
   ]
  },
  {
   "cell_type": "code",
   "execution_count": 27,
   "metadata": {},
   "outputs": [
    {
     "data": {
      "text/plain": [
       "2018    1099\n",
       "2016    1073\n",
       "2017    1069\n",
       "2015    1066\n",
       "2019    1061\n",
       "2007    1049\n",
       "2011    1042\n",
       "2010    1032\n",
       "2005    1024\n",
       "2008    1016\n",
       "2009    1005\n",
       "2006     987\n",
       "2012     932\n",
       "2003     888\n",
       "2013     877\n",
       "2004     874\n",
       "2002     793\n",
       "2014     773\n",
       "2020     380\n",
       "2001     254\n",
       "1997      42\n",
       "1996      41\n",
       "1994      39\n",
       "1998      35\n",
       "1999      34\n",
       "2000      33\n",
       "1971      32\n",
       "1995      31\n",
       "1992      31\n",
       "1981      30\n",
       "1979      30\n",
       "1993      28\n",
       "1980      28\n",
       "1977      27\n",
       "1982      26\n",
       "1970      25\n",
       "1988      25\n",
       "1990      24\n",
       "1991      23\n",
       "1972      22\n",
       "1987      21\n",
       "1985      21\n",
       "1975      20\n",
       "1989      20\n",
       "1974      19\n",
       "1973      18\n",
       "1968      17\n",
       "1978      16\n",
       "1969      16\n",
       "1986      14\n",
       "Name: release_date, dtype: int64"
      ]
     },
     "execution_count": 27,
     "metadata": {},
     "output_type": "execute_result"
    }
   ],
   "source": [
    "df['release_date'].value_counts().head(50)"
   ]
  },
  {
   "cell_type": "code",
   "execution_count": 28,
   "metadata": {},
   "outputs": [
    {
     "data": {
      "text/plain": [
       "release_date\n",
       "1957    8.950000\n",
       "1959    8.200000\n",
       "1960    9.200000\n",
       "1962    8.525000\n",
       "1963    9.433333\n",
       "          ...   \n",
       "2016    7.124231\n",
       "2017    7.179233\n",
       "2018    7.137853\n",
       "2019    7.204901\n",
       "2020    7.182632\n",
       "Name: score, Length: 62, dtype: float64"
      ]
     },
     "execution_count": 28,
     "metadata": {},
     "output_type": "execute_result"
    }
   ],
   "source": [
    "df_by_date.groupby('release_date')['score'].mean()"
   ]
  },
  {
   "cell_type": "code",
   "execution_count": 29,
   "metadata": {
    "scrolled": false
   },
   "outputs": [
    {
     "data": {
      "image/png": "[encoded data removed]",
      "text/plain": [
       "<Figure size 1080x576 with 1 Axes>"
      ]
     },
     "metadata": {
      "needs_background": "light"
     },
     "output_type": "display_data"
    }
   ],
   "source": [
    "plt.figure(figsize = (15, 8))\n",
    "plt.plot(df_by_date.index.unique(), df_by_date.groupby('release_date')['score'].mean())\n",
    "plt.title('Average Review Score by Year', size = 20)\n",
    "plt.xlabel('Year', size = 15)\n",
    "plt.ylabel('Score', size = 15);"
   ]
  },
  {
   "cell_type": "code",
   "execution_count": 30,
   "metadata": {},
   "outputs": [
    {
     "data": {
      "image/png": "[encoded data removed]",
      "text/plain": [
       "<Figure size 1080x576 with 1 Axes>"
      ]
     },
     "metadata": {
      "needs_background": "light"
     },
     "output_type": "display_data"
    }
   ],
   "source": [
    "plt.figure(figsize = (15, 8))\n",
    "plt.plot(df_by_date.index.unique(), df.groupby('release_date')['release_date'].value_counts())\n",
    "plt.title('Total Reviews by Year', size = 20)\n",
    "plt.xlabel('Year', size = 15)\n",
    "plt.ylabel('Number', size = 15);"
   ]
  },
  {
   "cell_type": "markdown",
   "metadata": {},
   "source": [
    "### Artist"
   ]
  },
  {
   "cell_type": "code",
   "execution_count": 31,
   "metadata": {},
   "outputs": [
    {
     "data": {
      "text/plain": [
       "count           19165\n",
       "unique           9025\n",
       "top       David Bowie\n",
       "freq               26\n",
       "Name: artist, dtype: object"
      ]
     },
     "execution_count": 31,
     "metadata": {},
     "output_type": "execute_result"
    }
   ],
   "source": [
    "df['artist'].describe()"
   ]
  },
  {
   "cell_type": "code",
   "execution_count": 32,
   "metadata": {},
   "outputs": [
    {
     "data": {
      "text/plain": [
       "David Bowie            26\n",
       "Neil Young             24\n",
       "Guided by Voices       22\n",
       "Bob Dylan              22\n",
       "The Beatles            21\n",
       "Of Montreal            20\n",
       "The Fall               20\n",
       "Sonic Youth            20\n",
       "Xiu Xiu                19\n",
       "Four Tet               19\n",
       "Animal Collective      19\n",
       "Gucci Mane             19\n",
       "The Mountain Goats     18\n",
       "Robert Pollard         18\n",
       "R.E.M.                 18\n",
       "Mogwai                 18\n",
       "Belle and Sebastian    17\n",
       "Bruce Springsteen      16\n",
       "The Flaming Lips       16\n",
       "Prince                 16\n",
       "Name: artist, dtype: int64"
      ]
     },
     "execution_count": 32,
     "metadata": {},
     "output_type": "execute_result"
    }
   ],
   "source": [
    "df['artist'].value_counts().head(20)"
   ]
  },
  {
   "cell_type": "code",
   "execution_count": 34,
   "metadata": {},
   "outputs": [
    {
     "data": {
      "text/plain": [
       "artist\n",
       "Slint                                       10.00\n",
       "Carole King                                 10.00\n",
       "Television                                  10.00\n",
       "Talk Talk                                   10.00\n",
       "Herbie Hancock                              10.00\n",
       "The Stone Roses                             10.00\n",
       "Glenn Gould                                 10.00\n",
       "Captain Beefheart and His Magic Band        10.00\n",
       "X-Ray Spex                                  10.00\n",
       "N.W.A.                                       9.70\n",
       "Ultramagnetic MC's                           9.70\n",
       "D’Angelo                                     9.60\n",
       "My Bloody Valentine                          9.55\n",
       "Farben                                       9.50\n",
       "Roxy Music                                   9.50\n",
       "La Monte Young                               9.50\n",
       "A Tribe Called Quest                         9.50\n",
       "Milton NascimentoLô Borges                   9.50\n",
       "Minutemen                                    9.50\n",
       "Morton FeldmanIves Ensemble                  9.50\n",
       "Lauryn Hill                                  9.50\n",
       "PrinceThe Revolution                         9.48\n",
       "The Velvet Underground                       9.46\n",
       "Neutral Milk Hotel                           9.43\n",
       "D’AngeloThe Vanguard                         9.40\n",
       "Tracy Chapman                                9.40\n",
       "The Band                                     9.37\n",
       "Disco Inferno                                9.35\n",
       "Aaliyah                                      9.30\n",
       "Young Marble Giants                          9.30\n",
       "Gil Scott-HeronBrian Jackson                 9.30\n",
       "Jamie xx                                     9.30\n",
       "Gene Clark                                   9.30\n",
       "Billie Holiday                               9.30\n",
       "Pärson Sound                                 9.30\n",
       "Archie Shepp                                 9.30\n",
       "Olivia Block                                 9.30\n",
       "T. Rex                                       9.28\n",
       "The Modern Lovers                            9.20\n",
       "Pauline OliverosStuart DempsterPanaiotis     9.20\n",
       "Name: score, dtype: float64"
      ]
     },
     "execution_count": 34,
     "metadata": {},
     "output_type": "execute_result"
    }
   ],
   "source": [
    "round(df.groupby('artist')['score'].mean().sort_values(ascending = False).head(40), 2)"
   ]
  },
  {
   "cell_type": "code",
   "execution_count": 23,
   "metadata": {
    "scrolled": false
   },
   "outputs": [
    {
     "data": {
      "text/plain": [
       "artist\n",
       "Travis Morrison                 0.00\n",
       "Push Kings                      0.10\n",
       "Shat                            0.20\n",
       "Dan Le Sac vs. Scroobius Pip    0.20\n",
       "Non                             0.50\n",
       "Liars Academy                   0.60\n",
       "Avey TareKría Brekkan           1.00\n",
       "MetallicaLou Reed               1.00\n",
       "Geoff Farina                    1.00\n",
       "Ghostland Observatory           1.50\n",
       "Mika                            1.50\n",
       "Panic! At The Disco             1.50\n",
       "Towers of London                1.50\n",
       "The Airborne Toxic Event        1.60\n",
       "N.A.S.A.                        1.60\n",
       "Greta Van Fleet                 1.60\n",
       "Jet                             1.85\n",
       "Ninjasonik                      1.90\n",
       "Nate Denver's Neck              1.90\n",
       "Har Mar Superstar               1.95\n",
       "Jessie J                        2.00\n",
       "Amanda Blank                    2.00\n",
       "Guther                          2.00\n",
       "The Anniversary                 2.00\n",
       "Alexander Tucker                2.00\n",
       "Goldie Lookin' Chain            2.00\n",
       "Brassy                          2.00\n",
       "Bunnybrains                     2.10\n",
       "Chiddy Bang                     2.10\n",
       "Hanin Elias                     2.10\n",
       "Foreign Legion                  2.10\n",
       "The Entrance Band               2.20\n",
       "Yoav                            2.20\n",
       "Craig Armstrong                 2.20\n",
       "Gorilla Monsoon                 2.30\n",
       "Does It Offend You, Yeah?       2.30\n",
       "Bang Lime                       2.40\n",
       "Boom Box 2000                   2.40\n",
       "The Dolls                       2.40\n",
       "Sun City GirlsJ. Spaceman       2.40\n",
       "Name: score, dtype: float64"
      ]
     },
     "execution_count": 23,
     "metadata": {},
     "output_type": "execute_result"
    }
   ],
   "source": [
    "df.groupby('artist')['score'].mean().sort_values().head(40)"
   ]
  },
  {
   "cell_type": "code",
   "execution_count": 38,
   "metadata": {},
   "outputs": [
    {
     "data": {
      "image/png": "[encoded data removed]",
      "text/plain": [
       "<Figure size 1080x576 with 1 Axes>"
      ]
     },
     "metadata": {
      "needs_background": "light"
     },
     "output_type": "display_data"
    }
   ],
   "source": [
    "plt.figure(figsize = (15, 8))\n",
    "plt.hist(df['artist'].value_counts())\n",
    "plt.title('Distribution of Reviews by Unique Artists', size = 20);"
   ]
  },
  {
   "cell_type": "code",
   "execution_count": 24,
   "metadata": {},
   "outputs": [
    {
     "data": {
      "text/html": [
       "<div>\n",
       "<style scoped>\n",
       "    .dataframe tbody tr th:only-of-type {\n",
       "        vertical-align: middle;\n",
       "    }\n",
       "\n",
       "    .dataframe tbody tr th {\n",
       "        vertical-align: top;\n",
       "    }\n",
       "\n",
       "    .dataframe thead th {\n",
       "        text-align: right;\n",
       "    }\n",
       "</style>\n",
       "<table border=\"1\" class=\"dataframe\">\n",
       "  <thead>\n",
       "    <tr style=\"text-align: right;\">\n",
       "      <th></th>\n",
       "      <th>album</th>\n",
       "      <th>artist</th>\n",
       "      <th>score</th>\n",
       "      <th>genre</th>\n",
       "      <th>label</th>\n",
       "      <th>author</th>\n",
       "      <th>review</th>\n",
       "      <th>release_date</th>\n",
       "    </tr>\n",
       "  </thead>\n",
       "  <tbody>\n",
       "    <tr>\n",
       "      <th>14525</th>\n",
       "      <td>Shine On</td>\n",
       "      <td>Jet</td>\n",
       "      <td>0.0</td>\n",
       "      <td>Rock</td>\n",
       "      <td>Elektra</td>\n",
       "      <td>Ray Suzuki</td>\n",
       "      <td></td>\n",
       "      <td>2006</td>\n",
       "    </tr>\n",
       "    <tr>\n",
       "      <th>16040</th>\n",
       "      <td>Relaxation of the Asshole</td>\n",
       "      <td>Robert Pollard</td>\n",
       "      <td>0.0</td>\n",
       "      <td>Rock</td>\n",
       "      <td>Rockathon</td>\n",
       "      <td>Eric Carr</td>\n",
       "      <td>If more drunks would learn from Robert Pollard...</td>\n",
       "      <td>2005</td>\n",
       "    </tr>\n",
       "    <tr>\n",
       "      <th>16625</th>\n",
       "      <td>Travistan</td>\n",
       "      <td>Travis Morrison</td>\n",
       "      <td>0.0</td>\n",
       "      <td>Pop/R&amp;B</td>\n",
       "      <td>Barsuk</td>\n",
       "      <td>Chris Dahlen</td>\n",
       "      <td>Travis Morrison got his ass kicked. He tells t...</td>\n",
       "      <td>2004</td>\n",
       "    </tr>\n",
       "    <tr>\n",
       "      <th>17818</th>\n",
       "      <td>Liz Phair</td>\n",
       "      <td>Liz Phair</td>\n",
       "      <td>0.0</td>\n",
       "      <td>Rock</td>\n",
       "      <td>Capitol</td>\n",
       "      <td>Matt LeMay</td>\n",
       "      <td>It could be said that Liz Phair's greatest ass...</td>\n",
       "      <td>2003</td>\n",
       "    </tr>\n",
       "  </tbody>\n",
       "</table>\n",
       "</div>"
      ],
      "text/plain": [
       "                           album           artist  score    genre      label  \\\n",
       "14525                   Shine On              Jet    0.0     Rock    Elektra   \n",
       "16040  Relaxation of the Asshole   Robert Pollard    0.0     Rock  Rockathon   \n",
       "16625                  Travistan  Travis Morrison    0.0  Pop/R&B     Barsuk   \n",
       "17818                  Liz Phair        Liz Phair    0.0     Rock    Capitol   \n",
       "\n",
       "             author                                             review  \\\n",
       "14525    Ray Suzuki                                                      \n",
       "16040     Eric Carr  If more drunks would learn from Robert Pollard...   \n",
       "16625  Chris Dahlen  Travis Morrison got his ass kicked. He tells t...   \n",
       "17818    Matt LeMay  It could be said that Liz Phair's greatest ass...   \n",
       "\n",
       "       release_date  \n",
       "14525          2006  \n",
       "16040          2005  \n",
       "16625          2004  \n",
       "17818          2003  "
      ]
     },
     "execution_count": 24,
     "metadata": {},
     "output_type": "execute_result"
    }
   ],
   "source": [
    "df[df['score'] == 0]"
   ]
  },
  {
   "cell_type": "markdown",
   "metadata": {},
   "source": [
    "### Author"
   ]
  },
  {
   "cell_type": "code",
   "execution_count": 25,
   "metadata": {
    "scrolled": false
   },
   "outputs": [
    {
     "data": {
      "text/plain": [
       "Mark Richardson            14\n",
       "Jenn Pelly                  5\n",
       "Scott Plagenhoef            4\n",
       "Stuart Berman               4\n",
       "Ryan Dombal                 4\n",
       "Jayson Greene               3\n",
       "Matt LeMay                  3\n",
       "Nate Patrin                 3\n",
       "Amanda Petrusich            3\n",
       "Jeff Weiss                  2\n",
       "Barry Walters               2\n",
       "Maura Johnston              2\n",
       "Chris Dahlen                2\n",
       "Rob Mitchum                 2\n",
       "Jess Harvell                2\n",
       "Philip Sherburne            2\n",
       "Ian Cohen                   2\n",
       "Jeremy D. Larson            2\n",
       "Nitsuh Abebe                2\n",
       "Douglas Wolk                2\n",
       "Simon Reynolds              2\n",
       "Carvell Wallace             2\n",
       "Amy Granzin                 1\n",
       "Stephen Thomas Erlewine     1\n",
       "Stephen M. Deusner          1\n",
       "Paul A. Thompson            1\n",
       "Laura Snapes                1\n",
       "Andy Beta                   1\n",
       "Jillian Mapes               1\n",
       "Jessica Hopper              1\n",
       "kris ex                     1\n",
       "Tom Ewing                   1\n",
       "Nelson George               1\n",
       "Joe Tangari                 1\n",
       "Brad Nelson                 1\n",
       "Grayson Currin              1\n",
       "Joshua Klein                1\n",
       "Mike Powell                 1\n",
       "Seth Colter Walls           1\n",
       "Jesse Jarnow                1\n",
       "Marc Masters                1\n",
       "Alan Light                  1\n",
       "Paul Thompson               1\n",
       "Craig Jenkins               1\n",
       "Matthew Trammell            1\n",
       "Andy O'Connor               1\n",
       "Dan Brooks                  1\n",
       "Saby Reyes-Kulkarni         1\n",
       "Josephine Livingstone       1\n",
       "Steven Hyden                1\n",
       "Dominique Leone             1\n",
       "Judy Berman                 1\n",
       "Matthew Perpetua            1\n",
       "Jeff Chang                  1\n",
       "Ryan Reed                   1\n",
       "Sasha Geffen                1\n",
       "Nate Chinen                 1\n",
       "Brent S. Sirota             1\n",
       "Name: author, dtype: int64"
      ]
     },
     "execution_count": 25,
     "metadata": {},
     "output_type": "execute_result"
    }
   ],
   "source": [
    "# How maany authors have awarded a 10/10?\n",
    "df[df['score'] == 10]['author'].value_counts()"
   ]
  },
  {
   "cell_type": "code",
   "execution_count": 26,
   "metadata": {},
   "outputs": [
    {
     "data": {
      "text/plain": [
       "count         19165\n",
       "unique          557\n",
       "top       Ian Cohen\n",
       "freq            760\n",
       "Name: author, dtype: object"
      ]
     },
     "execution_count": 26,
     "metadata": {},
     "output_type": "execute_result"
    }
   ],
   "source": [
    "# Check to see how many unique authors there are\n",
    "df['author'].describe()"
   ]
  },
  {
   "cell_type": "code",
   "execution_count": 71,
   "metadata": {},
   "outputs": [
    {
     "data": {
      "text/plain": [
       "author\n",
       "Nelson George                        10.000000\n",
       "Dan Brooks                           10.000000\n",
       "Jeff Chang                           10.000000\n",
       "Ryan Reed                            10.000000\n",
       "Carvell Wallace                       9.833333\n",
       "Simon Reynolds                        9.766667\n",
       "Matthew Trammell                      9.600000\n",
       "Dorian Lynskey                        9.500000\n",
       "Rob Tannenbaum                        9.500000\n",
       "Alex Pappademas                       9.400000\n",
       "Alan Light                            9.400000\n",
       "Rollie Pemberton & Nick Sylvester     9.400000\n",
       "Michael A.  Gonzales                  9.300000\n",
       "Danielle Jackson                      9.300000\n",
       "Luc Sante                             9.300000\n",
       "Vivien Goldman                        9.300000\n",
       "Daphne A. Brooks                      9.200000\n",
       "Sasha Frere-Jones                     9.200000\n",
       "Josephine Livingstone                 9.150000\n",
       "Shuja Haider                          9.100000\n",
       "Name: score, dtype: float64"
      ]
     },
     "execution_count": 71,
     "metadata": {},
     "output_type": "execute_result"
    }
   ],
   "source": [
    "# Find the \"favorite authors\"\n",
    "df.groupby('author')['score'].mean().sort_values(ascending = False).head(20)"
   ]
  },
  {
   "cell_type": "code",
   "execution_count": 33,
   "metadata": {},
   "outputs": [
    {
     "data": {
      "text/plain": [
       "Ian Cohen             760\n",
       "Stephen M. Deusner    685\n",
       "Joe Tangari           635\n",
       "Stuart Berman         536\n",
       "Mark Richardson       509\n",
       "Brian Howe            481\n",
       "Marc Hogan            426\n",
       "Philip Sherburne      408\n",
       "Andy Beta             350\n",
       "Jayson Greene         316\n",
       "Nate Patrin           304\n",
       "Marc Masters          289\n",
       "Brandon Stosuy        259\n",
       "Jason Crock           244\n",
       "Larry Fitzmaurice     240\n",
       "Rob Mitchum           234\n",
       "Jess Harvell          231\n",
       "Matthew Murphy        226\n",
       "Grayson Currin        226\n",
       "Andrew Gaerig         219\n",
       "Name: author, dtype: int64"
      ]
     },
     "execution_count": 33,
     "metadata": {},
     "output_type": "execute_result"
    }
   ],
   "source": [
    "# Which authors wrote the most reviews?\n",
    "df['author'].value_counts().head(20)"
   ]
  },
  {
   "cell_type": "code",
   "execution_count": 34,
   "metadata": {},
   "outputs": [
    {
     "data": {
      "text/plain": [
       "Chip Chanko                                                    1\n",
       "Seth Colter-Walls                                              1\n",
       "Bhanuj Kappal                                                  1\n",
       "Oliver Wang                                                    1\n",
       "Amy Schroeder                                                  1\n",
       "Nazuk Kochhar                                                  1\n",
       "Maggie Serota                                                  1\n",
       "Casey Rea                                                      1\n",
       "Choppa Moussaoui, with help from Mullah Omar, Ethan P, and     1\n",
       "Rahawa Haile                                                   1\n",
       "Frankie Caracciolo                                             1\n",
       "Zach Hooker                                                    1\n",
       "Brian Howe & Brandon Stosuy                                    1\n",
       "JT Ramsay                                                      1\n",
       "Marty Sartini Garner                                           1\n",
       "Mark Richard-San & Ryan Schreiber                              1\n",
       "Veracia Ankrah                                                 1\n",
       "Graeme Thomson                                                 1\n",
       "Brock Kappers                                                  1\n",
       "Maya-Roisin Slater                                             1\n",
       "Name: author, dtype: int64"
      ]
     },
     "execution_count": 34,
     "metadata": {},
     "output_type": "execute_result"
    }
   ],
   "source": [
    "# Which authors wrote the least reviews?\n",
    "df['author'].value_counts().tail(20)"
   ]
  },
  {
   "cell_type": "code",
   "execution_count": 36,
   "metadata": {},
   "outputs": [
    {
     "data": {
      "text/plain": [
       "count    557.000000\n",
       "mean      34.407540\n",
       "std       81.950881\n",
       "min        1.000000\n",
       "25%        2.000000\n",
       "50%        7.000000\n",
       "75%       27.000000\n",
       "max      760.000000\n",
       "Name: author, dtype: float64"
      ]
     },
     "execution_count": 36,
     "metadata": {},
     "output_type": "execute_result"
    }
   ],
   "source": [
    "# There are 557 unique reviewers for Pitchfork\n",
    "df['author'].value_counts().describe()"
   ]
  },
  {
   "cell_type": "code",
   "execution_count": 43,
   "metadata": {},
   "outputs": [
    {
     "data": {
      "image/png": "[encoded data removed]",
      "text/plain": [
       "<Figure size 1080x576 with 1 Axes>"
      ]
     },
     "metadata": {
      "needs_background": "light"
     },
     "output_type": "display_data"
    }
   ],
   "source": [
    "# Distribution of reviews by author\n",
    "plt.figure(figsize = (15, 8))\n",
    "plt.hist(df['author'].value_counts())\n",
    "plt.title('Distribution of Reviews by Unique Authors', size = 20);"
   ]
  },
  {
   "cell_type": "markdown",
   "metadata": {},
   "source": [
    "### Feature Engineering\n",
    "\n",
    "There's one piece of feature engineering we're going to start with, and that's the length of the review itself. The idea is this: if an album is rated more favorably, perhaps the author had more to say about it, whereas if the album is rated less favorably, perhaps the author had less to say about it before moving on to the next review."
   ]
  },
  {
   "cell_type": "markdown",
   "metadata": {},
   "source": [
    "This is a feature that's to be included on all the files that have been created so far (a base file, a tokenized file, a lemmatized file, and a stemmed file). Read in all files, create length of review column, and save files back to `datasets` folder"
   ]
  },
  {
   "cell_type": "code",
   "execution_count": 119,
   "metadata": {},
   "outputs": [],
   "source": [
    "# Read in the 3 datasets\n",
    "\n",
    "df_token = pd.read_csv('../datasets/other-datasets/cleaned_reviews_tokenized.csv')\n",
    "df_lemm = pd.read_csv('../datasets/other-datasets/cleaned_reviews_lemmatized.csv')\n",
    "df_stem = pd.read_csv('../datasets/other-datasets/cleaned_reviews_stemmed.csv')\n",
    "\n",
    "# Set index to be the album\n",
    "df_token.set_index('album', inplace = True)\n",
    "df_lemm.set_index('album', inplace = True)\n",
    "df_stem.set_index('album', inplace = True)\n",
    "\n",
    "# Drop column 'Unnamed: 0'\n",
    "\n",
    "df_token.drop(columns = ['Unnamed: 0'], inplace = True)\n",
    "df_lemm.drop(columns = ['Unnamed: 0'], inplace = True)\n",
    "df_stem.drop(columns = ['Unnamed: 0'], inplace = True)"
   ]
  },
  {
   "cell_type": "code",
   "execution_count": 120,
   "metadata": {},
   "outputs": [],
   "source": [
    "# Create the review length column in each of the 3 datasets\n",
    "\n",
    "df_token['review_length'] = [len(review) for review in df_token['review']]\n",
    "df_lemm['review_length'] = [len(review) for review in df_lemm['review']]\n",
    "df_stem['review_length'] = [len(review) for review in df_stem['review']]"
   ]
  },
  {
   "cell_type": "code",
   "execution_count": 112,
   "metadata": {},
   "outputs": [
    {
     "data": {
      "text/html": [
       "<div>\n",
       "<style scoped>\n",
       "    .dataframe tbody tr th:only-of-type {\n",
       "        vertical-align: middle;\n",
       "    }\n",
       "\n",
       "    .dataframe tbody tr th {\n",
       "        vertical-align: top;\n",
       "    }\n",
       "\n",
       "    .dataframe thead th {\n",
       "        text-align: right;\n",
       "    }\n",
       "</style>\n",
       "<table border=\"1\" class=\"dataframe\">\n",
       "  <thead>\n",
       "    <tr style=\"text-align: right;\">\n",
       "      <th></th>\n",
       "      <th>artist</th>\n",
       "      <th>score</th>\n",
       "      <th>genre</th>\n",
       "      <th>label</th>\n",
       "      <th>author</th>\n",
       "      <th>review</th>\n",
       "      <th>release_date</th>\n",
       "    </tr>\n",
       "    <tr>\n",
       "      <th>album</th>\n",
       "      <th></th>\n",
       "      <th></th>\n",
       "      <th></th>\n",
       "      <th></th>\n",
       "      <th></th>\n",
       "      <th></th>\n",
       "      <th></th>\n",
       "    </tr>\n",
       "  </thead>\n",
       "  <tbody>\n",
       "    <tr>\n",
       "      <th>Set My Heart on Fire Immediately</th>\n",
       "      <td>Perfume Genius</td>\n",
       "      <td>9.0</td>\n",
       "      <td>Pop/R&amp;B</td>\n",
       "      <td>Matador</td>\n",
       "      <td>Madison Bloom</td>\n",
       "      <td>['each', 'perfume', 'genius', 'album', 'is', '...</td>\n",
       "      <td>2020</td>\n",
       "    </tr>\n",
       "    <tr>\n",
       "      <th>WILL THIS MAKE ME GOOD</th>\n",
       "      <td>Nick Hakim</td>\n",
       "      <td>6.0</td>\n",
       "      <td>Rock</td>\n",
       "      <td>ATO</td>\n",
       "      <td>Jonah Bromwich</td>\n",
       "      <td>['nick', 'hakim', 's', 'compulsively', 'listen...</td>\n",
       "      <td>2020</td>\n",
       "    </tr>\n",
       "    <tr>\n",
       "      <th>Every Sun, Every Moon</th>\n",
       "      <td>I'm Glad It's You</td>\n",
       "      <td>7.4</td>\n",
       "      <td>Rock</td>\n",
       "      <td>6131</td>\n",
       "      <td>Arielle Gordon</td>\n",
       "      <td>['grief', 'casts', 'a', 'shadow', 'over', 'the...</td>\n",
       "      <td>2020</td>\n",
       "    </tr>\n",
       "    <tr>\n",
       "      <th>The Quickening</th>\n",
       "      <td>Jim WhiteMarisa Anderson</td>\n",
       "      <td>7.8</td>\n",
       "      <td>Rock</td>\n",
       "      <td>Thrill Jockey</td>\n",
       "      <td>Jesse Jarnow</td>\n",
       "      <td>['the', 'quickening', 'opens', 'with', 'an', '...</td>\n",
       "      <td>2020</td>\n",
       "    </tr>\n",
       "    <tr>\n",
       "      <th>Dare</th>\n",
       "      <td>The Human League</td>\n",
       "      <td>9.1</td>\n",
       "      <td>Electronic</td>\n",
       "      <td>Virgin</td>\n",
       "      <td>Brad Nelson</td>\n",
       "      <td>['in', 'late', '1980', 'the', 'singer', 'phili...</td>\n",
       "      <td>1981</td>\n",
       "    </tr>\n",
       "  </tbody>\n",
       "</table>\n",
       "</div>"
      ],
      "text/plain": [
       "                                                    artist  score       genre  \\\n",
       "album                                                                           \n",
       "Set My Heart on Fire Immediately            Perfume Genius    9.0     Pop/R&B   \n",
       "WILL THIS MAKE ME GOOD                          Nick Hakim    6.0        Rock   \n",
       "Every Sun, Every Moon                    I'm Glad It's You    7.4        Rock   \n",
       "The Quickening                    Jim WhiteMarisa Anderson    7.8        Rock   \n",
       "Dare                                      The Human League    9.1  Electronic   \n",
       "\n",
       "                                          label          author  \\\n",
       "album                                                             \n",
       "Set My Heart on Fire Immediately        Matador   Madison Bloom   \n",
       "WILL THIS MAKE ME GOOD                      ATO  Jonah Bromwich   \n",
       "Every Sun, Every Moon                      6131  Arielle Gordon   \n",
       "The Quickening                    Thrill Jockey    Jesse Jarnow   \n",
       "Dare                                     Virgin     Brad Nelson   \n",
       "\n",
       "                                                                             review  \\\n",
       "album                                                                                 \n",
       "Set My Heart on Fire Immediately  ['each', 'perfume', 'genius', 'album', 'is', '...   \n",
       "WILL THIS MAKE ME GOOD            ['nick', 'hakim', 's', 'compulsively', 'listen...   \n",
       "Every Sun, Every Moon             ['grief', 'casts', 'a', 'shadow', 'over', 'the...   \n",
       "The Quickening                    ['the', 'quickening', 'opens', 'with', 'an', '...   \n",
       "Dare                              ['in', 'late', '1980', 'the', 'singer', 'phili...   \n",
       "\n",
       "                                  release_date  \n",
       "album                                           \n",
       "Set My Heart on Fire Immediately          2020  \n",
       "WILL THIS MAKE ME GOOD                    2020  \n",
       "Every Sun, Every Moon                     2020  \n",
       "The Quickening                            2020  \n",
       "Dare                                      1981  "
      ]
     },
     "execution_count": 112,
     "metadata": {},
     "output_type": "execute_result"
    }
   ],
   "source": [
    "df_token.head()"
   ]
  },
  {
   "cell_type": "markdown",
   "metadata": {},
   "source": [
    "#### Dummy variables: Genre"
   ]
  },
  {
   "cell_type": "markdown",
   "metadata": {},
   "source": [
    "The next piece of feature engineering we're going to do is to dummify the `genre` column. This approach makes the most sense: the columns `artist`, `author`, and `label` were tokenized because there were hundreds (if not thousands) of unique values for each. However, there are only 9 unique values for the `genre` column, which makes it an excellent option for creating dummy variables. \n",
    "\n",
    "As a reminder, the unique genres in the `genre` column are:\n",
    "\n",
    "    - Pop/R&B\n",
    "    - Rock\n",
    "    - Electronic\n",
    "    - Rap\n",
    "    - Folk/Country\n",
    "    - Experimental\n",
    "    - Jazz\n",
    "    - Global\n",
    "    - Metal"
   ]
  },
  {
   "cell_type": "markdown",
   "metadata": {},
   "source": [
    "### New approach -- only use NLP on the `review`, not on `author`, `artist` or `label`\n",
    "\n",
    "Initially, I had hoped to use NLP Vectorization for each album's `review`, `label`, and `artist`. Dummying the `artist` and `label` would be prefereable, but there are thousands of unique values for each. \n",
    "\n",
    "One of the biggest issues I've run into so far is having a dataframe with too many columns. A way to reduce the number of columns in the dataframe is to simply count the number of `artists` and `labels` for each album, which can use the frequency of these two variables in the model without creating thousands of new columns."
   ]
  },
  {
   "cell_type": "markdown",
   "metadata": {},
   "source": [
    "**Frequency variables for `df_token`**"
   ]
  },
  {
   "cell_type": "code",
   "execution_count": 121,
   "metadata": {},
   "outputs": [],
   "source": [
    "# Artist Frequency\n",
    "artist_freq = df_token['artist'].value_counts()\n",
    "df_token['artist_freq'] = df_token['artist'].map(artist_freq)\n",
    "\n",
    "# Label Frequency\n",
    "label_freq = df_token['label'].value_counts()\n",
    "df_token['label_freq'] = df_token['label'].map(label_freq)\n",
    "\n",
    "# Author Frequency\n",
    "author_freq = df_token['author'].value_counts()\n",
    "df_token['author_freq'] = df_token['author'].map(author_freq)"
   ]
  },
  {
   "cell_type": "markdown",
   "metadata": {},
   "source": [
    "**Frequency variables for `df_lemm`**"
   ]
  },
  {
   "cell_type": "code",
   "execution_count": 122,
   "metadata": {},
   "outputs": [],
   "source": [
    "# Artist Frequency\n",
    "artist_freq = df_lemm['artist'].value_counts()\n",
    "df_lemm['artist_freq'] = df_lemm['artist'].map(artist_freq)\n",
    "\n",
    "# Label Frequency\n",
    "label_freq = df_lemm['label'].value_counts()\n",
    "df_lemm['label_freq'] = df_lemm['label'].map(label_freq)\n",
    "\n",
    "# Author Frequency\n",
    "author_freq = df_lemm['author'].value_counts()\n",
    "df_lemm['author_freq'] = df_lemm['author'].map(author_freq)"
   ]
  },
  {
   "cell_type": "markdown",
   "metadata": {},
   "source": [
    "**Frequency variables for `df_lemm`**"
   ]
  },
  {
   "cell_type": "code",
   "execution_count": 123,
   "metadata": {},
   "outputs": [],
   "source": [
    "# Artist Frequency\n",
    "artist_freq = df_stem['artist'].value_counts()\n",
    "df_stem['artist_freq'] = df_stem['artist'].map(artist_freq)\n",
    "\n",
    "# Label Frequency\n",
    "label_freq = df_stem['label'].value_counts()\n",
    "df_stem['label_freq'] = df_stem['label'].map(label_freq)\n",
    "\n",
    "# Author Frequency\n",
    "author_freq = df_stem['author'].value_counts()\n",
    "df_stem['author_freq'] = df_stem['author'].map(author_freq)"
   ]
  },
  {
   "cell_type": "markdown",
   "metadata": {},
   "source": [
    "### **Dummy Variables**"
   ]
  },
  {
   "cell_type": "code",
   "execution_count": 124,
   "metadata": {},
   "outputs": [],
   "source": [
    "# Create dummy variables\n",
    "token_dummies = pd.get_dummies(df_token['genre'])\n",
    "lemm_dummies = pd.get_dummies(df_lemm['genre'])\n",
    "stem_dummies = pd.get_dummies(df_stem['genre'])\n",
    "\n",
    "# Add dummy variables to each dataframe\n",
    "df_token = pd.concat([df_token, token_dummies], axis = 1, join = 'outer')\n",
    "df_lemm = pd.concat([df_lemm, lemm_dummies], axis = 1, join = 'outer')\n",
    "df_stem = pd.concat([df_stem, stem_dummies], axis = 1, join = 'outer')\n",
    "\n",
    "# Save datasets back to notebook\n",
    "df_token.to_csv(r'../datasets/final-datasets/cleaned_dummied_tokenized_reviews.csv')\n",
    "df_lemm.to_csv(r'../datasets/final-datasets/cleaned_dummied_lemmatized_reviews.csv')\n",
    "df_stem.to_csv(r'../datasets/final-datasets/cleaned_dummied_stemmed_reviews.csv')"
   ]
  },
  {
   "cell_type": "markdown",
   "metadata": {},
   "source": [
    "**Create a heatmap to see correlation coefficients of each quantitative variable to the `score` of the album.**"
   ]
  },
  {
   "cell_type": "code",
   "execution_count": 125,
   "metadata": {},
   "outputs": [
    {
     "data": {
      "image/png": "[encoded data removed]",
      "text/plain": [
       "<Figure size 720x720 with 2 Axes>"
      ]
     },
     "metadata": {
      "needs_background": "light"
     },
     "output_type": "display_data"
    }
   ],
   "source": [
    "plt.figure(figsize = (10, 10))\n",
    "sns.heatmap(df_token.corr(), annot = True, cmap = 'coolwarm');"
   ]
  },
  {
   "cell_type": "code",
   "execution_count": 126,
   "metadata": {
    "scrolled": false
   },
   "outputs": [
    {
     "data": {
      "image/png": "[encoded data removed]",
      "text/plain": [
       "<Figure size 720x720 with 2 Axes>"
      ]
     },
     "metadata": {
      "needs_background": "light"
     },
     "output_type": "display_data"
    }
   ],
   "source": [
    "plt.figure(figsize = (10, 10))\n",
    "sns.heatmap(df_token.corr()[['score']].sort_values('score'), annot = True, cmap = 'coolwarm');"
   ]
  },
  {
   "cell_type": "markdown",
   "metadata": {},
   "source": [
    "## MODEL EXPERIMENTATION\n",
    "\n",
    "Everything you see below are experiments in determining what model might ultimately be the best fit, and include GridSearch experiments to see if CountVectorizer hyperparameters change with different regressors."
   ]
  },
  {
   "cell_type": "markdown",
   "metadata": {},
   "source": [
    "### Natural Language Processing"
   ]
  },
  {
   "cell_type": "markdown",
   "metadata": {},
   "source": [
    "**Make Necessary Imports and Read in CSVs**"
   ]
  },
  {
   "cell_type": "code",
   "execution_count": 71,
   "metadata": {
    "scrolled": true
   },
   "outputs": [],
   "source": [
    "import pandas as pd\n",
    "import numpy as np\n",
    "from nltk.corpus import stopwords\n",
    "from sklearn.feature_extraction.text import CountVectorizer, TfidfVectorizer\n",
    "from sklearn.model_selection import train_test_split, cross_val_score, GridSearchCV\n",
    "from sklearn.linear_model import LinearRegression\n",
    "from sklearn.pipeline import Pipeline\n",
    "from sklearn.tree import DecisionTreeRegressor\n",
    "\n",
    "df_token = pd.read_csv('../datasets/final-datasets/tokenized/cleaned_dummied_tokenized_reviews.csv')\n",
    "df_lemm = pd.read_csv('../datasets/final-datasets/lemmatized/cleaned_dummied_lemmatized_reviews.csv')\n",
    "df_stem = pd.read_csv('../datasets/final-datasets/stemmed/cleaned_dummied_stemmed_reviews.csv')\n",
    "\n",
    "df_token.set_index('album', inplace = True)\n",
    "df_lemm.set_index('album', inplace = True)\n",
    "df_stem.set_index('album', inplace = True)\n",
    "\n",
    "# Define function to remove come of the columns from the dataframe after it's been CountVectorized\n",
    "# This is necessary because this dataset produces over 113,000 columns when CountVectorized, which is\n",
    "#\\n too many to be modeled with the RAM space on my local machine\n",
    "\n",
    "def stop_word_list(table, upper_limit):\n",
    "    remove_list = []\n",
    "    for column in table.columns:\n",
    "        if sum(table[column]) >= upper_limit:\n",
    "            remove_list.append(column)\n",
    "\n",
    "    return remove_list\n",
    "\n",
    "# Define a function to remove words \n",
    "\n",
    "def drop_columns(table, lower_limit):\n",
    "    remove_list = []\n",
    "    for column in table.columns:\n",
    "        if sum(table[column]) <= lower_limit:\n",
    "            remove_list.append(column)\n",
    "    table.drop(columns = remove_list, inplace = True)    \n",
    "    return table\n"
   ]
  },
  {
   "cell_type": "markdown",
   "metadata": {},
   "source": [
    "**Create custom stop words**\n",
    "\n",
    "Through guess and check, I've determined that words that appear more than 500 times in the corpus account for about 3% of words in all documents. I've created a unique list for the `tokenized`, `lemmatized`, and `stemmed` datasets for the purpose of being used as `stop words` when building future models."
   ]
  },
  {
   "cell_type": "code",
   "execution_count": 65,
   "metadata": {},
   "outputs": [],
   "source": [
    "# Tokenized stopwords\n",
    "cvec = CountVectorizer()\n",
    "X_tok = df_token['review']\n",
    "X_tok = cvec.fit_transform(X_tok).astype('int8')\n",
    "X_tok_new = pd.DataFrame(X_tok.toarray(),\n",
    "                         columns = cvec.get_feature_names())\n",
    "\n",
    "stop_words_token = stop_word_list(X_tok_new, 500)\n",
    "[stop_words_token.append(word) for word in CountVectorizer(stop_words = 'english').get_stop_words()]\n",
    "stop_words_token = list(dict.fromkeys(stop_words_token))\n",
    "sw_token = pd.DataFrame(columns = ['stop_words_token'])\n",
    "sw_token['stop_words'] = stop_words_token\n",
    "sw_token.to_csv('../datasets/final-datasets/tokenized/stop_words_tokenized.csv')\n",
    "\n",
    "# Lemmatized stopwords\n",
    "cvec = CountVectorizer()\n",
    "X_lemm = df_lemm['review']\n",
    "X_lemm = cvec.fit_transform(X_lemm).astype('int8')\n",
    "X_lemm_new = pd.DataFrame(X_lemm.toarray(),\n",
    "                          columns = cvec.get_feature_names())\n",
    "\n",
    "stop_words_lemm = stop_word_list(X_lemm_new, 500)\n",
    "[stop_words_lemm.append(word) for word in CountVectorizer(stop_words = 'english').get_stop_words()]\n",
    "stop_words_lemm = list(dict.fromkeys(stop_words_lemm))\n",
    "sw_lemm = pd.DataFrame(columns = ['stop_words'])\n",
    "sw_lemm['stop_words'] = stop_words_lemm\n",
    "sw_lemm.to_csv('../datasets/final-datasets/lemmatized/stop_words_lemmatized.csv')\n",
    "\n",
    "# Stemmed stopwords\n",
    "cvec = CountVectorizer()\n",
    "X_stem = df_stem['review']\n",
    "X_stem = cvec.fit_transform(X_stem).astype('int8')\n",
    "X_stem_new = pd.DataFrame(X_stem.toarray(),\n",
    "                     columns = cvec.get_feature_names())\n",
    "\n",
    "stop_words_stem = stop_word_list(X_stem_new, 500)\n",
    "[stop_words_stem.append(word) for word in CountVectorizer(stop_words = 'english').get_stop_words()]\n",
    "stop_words_stem = list(dict.fromkeys(stop_words_stem))\n",
    "sw_stem = pd.DataFrame(columns = ['stop_words'])\n",
    "sw_stem['stop_words'] = stop_words_stem\n",
    "sw_stem.to_csv('../datasets/final-datasets/stemmed/stop_words_stemmed.csv')"
   ]
  },
  {
   "cell_type": "markdown",
   "metadata": {},
   "source": [
    "**Grid Search to find best `CountVectorizer` parameters**"
   ]
  },
  {
   "cell_type": "markdown",
   "metadata": {},
   "source": [
    "We can't use `GridSearch` over the variables that are not language components from the `CountVectorizer`. So in the below cell, the `train_test_split` is used to create a model with **only** the `review` variable included in the model. We can then used `GridSearch` to determine the best parameters to use in the ultimate model."
   ]
  },
  {
   "cell_type": "code",
   "execution_count": 80,
   "metadata": {},
   "outputs": [
    {
     "data": {
      "text/plain": [
       "(14373,)"
      ]
     },
     "execution_count": 80,
     "metadata": {},
     "output_type": "execute_result"
    }
   ],
   "source": [
    "y_train.shape"
   ]
  },
  {
   "cell_type": "code",
   "execution_count": 82,
   "metadata": {},
   "outputs": [
    {
     "data": {
      "text/plain": [
       "2794"
      ]
     },
     "execution_count": 82,
     "metadata": {},
     "output_type": "execute_result"
    }
   ],
   "source": [
    "len(stop_words_token)"
   ]
  },
  {
   "cell_type": "code",
   "execution_count": 79,
   "metadata": {},
   "outputs": [
    {
     "data": {
      "text/plain": [
       "(14373, 59865)"
      ]
     },
     "execution_count": 79,
     "metadata": {},
     "output_type": "execute_result"
    }
   ],
   "source": [
    "X_train_df.shape"
   ]
  },
  {
   "cell_type": "markdown",
   "metadata": {},
   "source": [
    "**Model pre-processing**"
   ]
  },
  {
   "cell_type": "code",
   "execution_count": 83,
   "metadata": {
    "scrolled": true
   },
   "outputs": [
    {
     "name": "stdout",
     "output_type": "stream",
     "text": [
      "{'cvec__max_features': 2000, 'cvec__ngram_range': (1, 4), 'cvec__stop_words': ['000', '10', '100', '11', '12', '13', '14', '15', '16', '18', '1960s', '1970s', '1980s', '1990s', '1994', '1995', '1996', '1997', '1998', '1999', '20', '2000', '2001', '2002', '2003', '2004', '2005', '2006', '2007', '2008', '2009', '2010', '2011', '2012', '2013', '2014', '2015', '2016', '2017', '21st', '25', '30', '40', '50', '60s', '70s', '80s', '90s', 'ability', 'able', 'about', 'above', 'absence', 'absolutely', 'abstract', 'accessible', 'accomplished', 'according', 'acid', 'acoustic', 'across', 'act', 'action', 'acts', 'actual', 'actually', 'ad', 'adams', 'add', 'added', 'adding', 'addition', 'adds', 'adult', 'adventurous', 'aesthetic', 'affair', 'affecting', 'affiliate', 'aforementioned', 'afraid', 'african', 'after', 'again', 'against', 'age', 'aggressive', 'ago', 'ahead', 'ain', 'air', 'airy', 'aka', 'albeit', 'album', 'albums', 'alien', 'alive', 'all', 'allow', 'allowed', 'allowing', 'allows', 'almost', 'alone', 'along', 'alongside', 'already', 'also', 'alt', 'alternate', 'alternative', 'although', 'always', 'am', 'amazing', 'ambience', 'ambient', 'ambition', 'ambitions', 'ambitious', 'america', 'american', 'amid', 'among', 'amount', 'an', 'analog', 'and', 'anderson', 'andrew', 'angel', 'angeles', 'anger', 'animal', 'another', 'answer', 'anthem', 'anthemic', 'anthems', 'anti', 'anxiety', 'any', 'anymore', 'anyone', 'anything', 'anyway', 'anywhere', 'apart', 'apparent', 'apparently', 'appeal', 'appealing', 'appear', 'appearance', 'appeared', 'appears', 'approach', 'approaches', 'appropriate', 'appropriately', 'arc', 'are', 'area', 'aren', 'arena', 'arguably', 'arms', 'around', 'arpeggios', 'arranged', 'arrangement', 'arrangements', 'array', 'arrived', 'arrives', 'art', 'artist', 'artistic', 'artists', 'as', 'aside', 'ask', 'asked', 'asking', 'asks', 'ass', 'at', 'atlanta', 'atmosphere', 'atmospheric', 'atop', 'attack', 'attempt', 'attempts', 'attention', 'attitude', 'audience', 'audio', 'available', 'avant', 'average', 'avoid', 'aware', 'away', 'awkward', 'baby', 'back', 'backdrop', 'backed', 'background', 'backing', 'bad', 'bag', 'balance', 'ball', 'ballad', 'ballads', 'band', 'bands', 'banjo', 'bar', 'bare', 'barely', 'bars', 'based', 'basement', 'basic', 'basically', 'bass', 'bassist', 'bassline', 'battle', 'bay', 'be', 'beach', 'bear', 'bears', 'beat', 'beatles', 'beats', 'beautiful', 'beautifully', 'beauty', 'became', 'because', 'become', 'becomes', 'becoming', 'bed', 'bedroom', 'been', 'before', 'began', 'begin', 'beginning', 'begins', 'behind', 'being', 'believe', 'bell', 'bells', 'beloved', 'ben', 'beneath', 'bent', 'berlin', 'besides', 'best', 'better', 'between', 'beyond', 'big', 'bigger', 'biggest', 'bill', 'bird', 'birds', 'bit', 'bitch', 'bits', 'bizarre', 'black', 'blame', 'blast', 'bleak', 'blend', 'block', 'blood', 'blow', 'blown', 'blue', 'blues', 'blunt', 'blur', 'boards', 'boasts', 'bob', 'body', 'bold', 'bones', 'bonus', 'boogie', 'book', 'boom', 'boring', 'born', 'both', 'bottom', 'bounce', 'bound', 'bowie', 'box', 'boy', 'boys', 'brain', 'brand', 'brass', 'break', 'breakdown', 'breaking', 'breaks', 'breakthrough', 'breakup', 'breath', 'breathe', 'breezy', 'brian', 'bridge', 'brief', 'bright', 'brilliant', 'bring', 'bringing', 'brings', 'british', 'broad', 'broke', 'broken', 'brooklyn', 'brother', 'brothers', 'brought', 'brown', 'build', 'building', 'builds', 'built', 'bunch', 'buried', 'burn', 'burning', 'burst', 'bursts', 'bush', 'business', 'busy', 'but', 'buy', 'buzz', 'by', 'california', 'call', 'called', 'calling', 'calls', 'calm', 'came', 'camp', 'can', 'candy', 'capable', 'capture', 'captured', 'captures', 'car', 'care', 'career', 'careful', 'carefully', 'carries', 'carry', 'case', 'cash', 'cassette', 'cast', 'casual', 'cat', 'catalog', 'catch', 'catchy', 'caught', 'cause', 'cave', 'cd', 'cello', 'center', 'centerpiece', 'central', 'century', 'certain', 'certainly', 'chain', 'chamber', 'chance', 'change', 'changed', 'changes', 'changing', 'channel', 'chaos', 'character', 'characters', 'charm', 'charming', 'chart', 'charts', 'cheap', 'check', 'chicago', 'child', 'childhood', 'children', 'choice', 'choir', 'chops', 'chord', 'chords', 'chorus', 'choruses', 'chris', 'christmas', 'church', 'cinematic', 'circa', 'circle', 'circles', 'city', 'claim', 'clarity', 'class', 'classic', 'classical', 'classics', 'clean', 'clear', 'clearly', 'clever', 'climax', 'close', 'closely', 'closer', 'closes', 'closest', 'closing', 'cloud', 'clouds', 'club', 'co', 'coast', 'coda', 'cohen', 'cohesive', 'cold', 'collaboration', 'collaborations', 'collaborative', 'collaborator', 'collaborators', 'collage', 'collection', 'collective', 'college', 'color', 'combination', 'come', 'comes', 'comfort', 'comfortable', 'coming', 'commercial', 'commission', 'common', 'community', 'company', 'compared', 'comparison', 'comparisons', 'compelling', 'compilation', 'complete', 'completely', 'complex', 'complicated', 'composed', 'composer', 'composition', 'compositions', 'computer', 'concept', 'conceptual', 'concerned', 'concerns', 'concert', 'concrete', 'confidence', 'confident', 'connection', 'conscious', 'consciousness', 'consider', 'considered', 'considering', 'consistent', 'consistently', 'constant', 'constantly', 'constructed', 'contained', 'contains', 'contemporaries', 'contemporary', 'content', 'context', 'continue', 'continues', 'contrast', 'contributions', 'control', 'conventional', 'conversation', 'convincing', 'cool', 'copy', 'core', 'corner', 'cosmic', 'could', 'couldn', 'count', 'country', 'couple', 'course', 'cover', 'covered', 'covers', 'crack', 'craft', 'crafted', 'crash', 'crazy', 'create', 'created', 'creates', 'creating', 'creation', 'creative', 'credit', 'crew', 'crisp', 'critical', 'critics', 'cross', 'crossover', 'crowd', 'crucial', 'cry', 'cult', 'cultural', 'culture', 'curious', 'current', 'cut', 'cuts', 'cutting', 'cycle', 'da', 'damn', 'dan', 'dance', 'dancefloor', 'dancehall', 'dancing', 'danger', 'daniel', 'dark', 'darker', 'darkness', 'date', 'dave', 'david', 'davis', 'dawn', 'day', 'days', 'de', 'dead', 'deal', 'dear', 'death', 'debut', 'decade', 'decades', 'decent', 'decided', 'decidedly', 'decision', 'deep', 'deeper', 'deeply', 'defined', 'defining', 'definitely', 'degree', 'delicate', 'deliver', 'delivered', 'delivers', 'delivery', 'demands', 'demo', 'demos', 'dense', 'departure', 'depth', 'describe', 'described', 'describes', 'desert', 'design', 'designed', 'desire', 'desperate', 'despite', 'detail', 'details', 'detroit', 'developed', 'development', 'devil', 'diamond', 'did', 'didn', 'die', 'died', 'difference', 'different', 'difficult', 'dig', 'digital', 'direct', 'direction', 'directions', 'directly', 'dirty', 'disc', 'disco', 'discography', 'discs', 'disparate', 'display', 'distance', 'distant', 'distinct', 'distinctive', 'distorted', 'distortion', 'diverse', 'dj', 'do', 'document', 'documentary', 'does', 'doesn', 'dog', 'doing', 'don', 'done', 'doom', 'door', 'double', 'doubt', 'down', 'dozen', 'dr', 'drag', 'drake', 'drama', 'dramatic', 'draw', 'drawing', 'drawn', 'draws', 'dream', 'dreams', 'dreamy', 'drift', 'drive', 'driven', 'driving', 'drone', 'drones', 'droning', 'drop', 'dropped', 'dropping', 'drops', 'drug', 'drugs', 'drum', 'drummer', 'drumming', 'drums', 'drunk', 'dry', 'dub', 'dubstep', 'dude', 'due', 'duet', 'dull', 'duo', 'during', 'dust', 'dusty', 'dying', 'dylan', 'dynamic', 'dynamics', 'each', 'ear', 'earlier', 'earliest', 'early', 'earn', 'earned', 'earnest', 'ears', 'earth', 'ease', 'easier', 'easily', 'east', 'easy', 'eat', 'echo', 'echoes', 'echoing', 'ecstatic', 'edge', 'edges', 'edition', 'eerie', 'effect', 'effective', 'effectively', 'effects', 'effort', 'efforts', 'eight', 'either', 'el', 'electric', 'electro', 'electronic', 'electronics', 'elegant', 'element', 'elements', 'else', 'elsewhere', 'elvis', 'em', 'embrace', 'emerged', 'emo', 'emotion', 'emotional', 'emotionally', 'emotions', 'emphasis', 'empty', 'end', 'ended', 'ending', 'endless', 'ends', 'energy', 'engaging', 'english', 'enjoy', 'enjoyable', 'eno', 'enough', 'ensemble', 'entire', 'entirely', 'entry', 'ep', 'epic', 'eps', 'equal', 'equally', 'equivalent', 'era', 'escape', 'especially', 'esque', 'essential', 'essentially', 'established', 'ethereal', 'european', 'even', 'eventually', 'ever', 'every', 'everybody', 'everyday', 'everyone', 'everything', 'everywhere', 'evidence', 'evident', 'evil', 'evocative', 'evoke', 'evokes', 'evolution', 'ex', 'exactly', 'example', 'excellent', 'except', 'exception', 'exciting', 'exercise', 'exist', 'existence', 'exists', 'expanded', 'expansive', 'expect', 'expectations', 'expected', 'experience', 'experiment', 'experimental', 'experimentation', 'experiments', 'explore', 'exploring', 'expression', 'extended', 'extra', 'extreme', 'eye', 'eyed', 'eyes', 'face', 'faced', 'fact', 'fade', 'failed', 'fair', 'fairly', 'faith', 'fake', 'fall', 'falling', 'falls', 'falsetto', 'fame', 'familiar', 'family', 'famous', 'fan', 'fans', 'fantastic', 'fantasy', 'far', 'fascinating', 'fashion', 'fast', 'fat', 'father', 'favor', 'favorite', 'fear', 'feature', 'featured', 'features', 'featuring', 'feedback', 'feel', 'feeling', 'feelings', 'feels', 'feet', 'fell', 'fellow', 'felt', 'female', 'festival', 'few', 'fi', 'field', 'fifth', 'fight', 'figure', 'figures', 'fill', 'filled', 'fills', 'film', 'final', 'finale', 'finally', 'find', 'finding', 'finds', 'fine', 'finest', 'finger', 'fingers', 'fire', 'first', 'fit', 'fits', 'fitting', 'five', 'flat', 'flesh', 'floating', 'floor', 'flourishes', 'flow', 'flows', 'flute', 'fly', 'flying', 'focus', 'focused', 'fog', 'folk', 'folks', 'follow', 'followed', 'following', 'follows', 'food', 'foot', 'for', 'force', 'forced', 'forever', 'forget', 'forgotten', 'form', 'format', 'formed', 'former', 'forms', 'formula', 'forth', 'fortunately', 'forward', 'found', 'foundation', 'four', 'fourth', 'frame', 'frank', 'freak', 'free', 'freedom', 'french', 'frequently', 'fresh', 'friend', 'friendly', 'friends', 'from', 'front', 'frontman', 'fuck', 'fucked', 'fucking', 'full', 'fully', 'fun', 'funk', 'funky', 'funny', 'further', 'fusion', 'future', 'fuzz', 'fuzzy', 'game', 'gang', 'garage', 'garde', 'garden', 'gave', 'general', 'generally', 'generation', 'genius', 'genre', 'genres', 'gentle', 'gently', 'genuine', 'george', 'german', 'get', 'gets', 'getting', 'ghost', 'ghostly', 'ghosts', 'gift', 'girl', 'girls', 'give', 'given', 'gives', 'giving', 'glass', 'global', 'glory', 'glow', 'go', 'god', 'goes', 'going', 'gold', 'golden', 'gone', 'gonna', 'good', 'goofy', 'gorgeous', 'gospel', 'got', 'gotten', 'grace', 'gradually', 'grand', 'gravity', 'great', 'greater', 'greatest', 'green', 'grew', 'grime', 'groove', 'grooves', 'ground', 'group', 'groups', 'grow', 'growing', 'grown', 'grunge', 'gucci', 'guess', 'guest', 'guests', 'guitar', 'guitarist', 'guitars', 'gun', 'guy', 'guys', 'had', 'hair', 'half', 'halfway', 'hall', 'hand', 'handful', 'hands', 'hang', 'hanging', 'happen', 'happened', 'happening', 'happens', 'happy', 'hard', 'hardcore', 'harder', 'hardly', 'harmonies', 'harmony', 'harsh', 'has', 'hasn', 'hat', 'hate', 'haunted', 'haunting', 'have', 'haven', 'having', 'haze', 'hazy', 'he', 'head', 'heads', 'hear', 'heard', 'hearing', 'heart', 'heartbreak', 'hearts', 'heat', 'heaven', 'heavily', 'heavy', 'held', 'hell', 'help', 'helped', 'helps', 'her', 'here', 'hero', 'heroes', 'herself', 'hey', 'hi', 'hidden', 'high', 'higher', 'highlight', 'highlights', 'highly', 'hill', 'him', 'himself', 'hint', 'hints', 'hip', 'his', 'history', 'hit', 'hits', 'hitting', 'hold', 'holding', 'holds', 'hole', 'holy', 'homage', 'home', 'hometown', 'honest', 'hood', 'hook', 'hooks', 'hop', 'hope', 'horn', 'horns', 'horror', 'horse', 'hot', 'hotel', 'hour', 'hours', 'house', 'how', 'however', 'huge', 'hum', 'human', 'humor', 'hurt', 'hushed', 'hyper', 'hypnotic', 'ice', 'idea', 'ideal', 'ideas', 'identity', 'idiosyncratic', 'idm', 'if', 'ii', 'ill', 'image', 'imagery', 'images', 'imagination', 'imagine', 'immediate', 'immediately', 'impact', 'important', 'impossible', 'impression', 'impressive', 'imprint', 'in', 'inch', 'include', 'included', 'includes', 'including', 'increasingly', 'indeed', 'indie', 'individual', 'industrial', 'industry', 'inevitable', 'influence', 'influenced', 'influences', 'initial', 'initially', 'inner', 'inside', 'inspiration', 'inspired', 'instance', 'instantly', 'instead', 'instrument', 'instrumental', 'instrumentals', 'instrumentation', 'instruments', 'intended', 'intense', 'intensity', 'intent', 'interest', 'interested', 'interesting', 'interlude', 'interludes', 'internal', 'international', 'internet', 'interplay', 'interview', 'interviews', 'intimacy', 'intimate', 'into', 'intricate', 'intriguing', 'intro', 'introduction', 'involved', 'ironic', 'irony', 'is', 'ish', 'island', 'isn', 'issue', 'issues', 'it', 'its', 'itself', 'jack', 'jackson', 'jam', 'james', 'jams', 'japanese', 'jarring', 'jay', 'jazz', 'jeff', 'jesus', 'jim', 'job', 'joe', 'john', 'johnny', 'johnson', 'joined', 'joke', 'jokes', 'jones', 'journey', 'joy', 'jump', 'jungle', 'just', 'kanye', 'keep', 'keeping', 'keeps', 'kept', 'key', 'keyboard', 'keyboards', 'keys', 'kick', 'kicks', 'kid', 'kids', 'kill', 'killer', 'kind', 'king', 'kiss', 'knack', 'knew', 'know', 'knowing', 'known', 'knows', 'la', 'label', 'labels', 'lack', 'lacks', 'laden', 'lady', 'laid', 'land', 'landscape', 'language', 'large', 'largely', 'larger', 'last', 'late', 'later', 'latest', 'latter', 'lay', 'layer', 'layered', 'layers', 'lazy', 'lead', 'leader', 'leading', 'leads', 'lean', 'learn', 'learned', 'least', 'leave', 'leaves', 'leaving', 'led', 'lee', 'left', 'legacy', 'legend', 'lends', 'length', 'less', 'let', 'lets', 'letter', 'letting', 'level', 'lie', 'lies', 'life', 'light', 'lights', 'like', 'likely', 'likes', 'likewise', 'lil', 'limited', 'line', 'liner', 'lines', 'lineup', 'links', 'lips', 'list', 'listen', 'listener', 'listeners', 'listening', 'listens', 'literal', 'literally', 'little', 'live', 'lived', 'lives', 'living', 'll', 'lo', 'local', 'logic', 'london', 'lone', 'lonely', 'long', 'longer', 'longing', 'longtime', 'look', 'looking', 'looks', 'loop', 'loops', 'loose', 'lord', 'los', 'lose', 'losing', 'loss', 'lost', 'lot', 'lots', 'loud', 'love', 'loved', 'lovely', 'lover', 'lovers', 'loves', 'loving', 'low', 'lower', 'lp', 'lps', 'lush', 'lyric', 'lyrical', 'lyrically', 'lyrics', 'machine', 'machines', 'mad', 'made', 'magic', 'main', 'mainstream', 'major', 'make', 'makes', 'making', 'male', 'man', 'manage', 'managed', 'manages', 'manic', 'manner', 'many', 'march', 'mark', 'marked', 'marks', 'mars', 'martin', 'mary', 'mass', 'massive', 'master', 'masterpiece', 'match', 'material', 'matt', 'matter', 'may', 'maybe', 'mc', 'me', 'mean', 'meandering', 'meaning', 'means', 'meant', 'meanwhile', 'measure', 'meat', 'media', 'meet', 'meets', 'melancholy', 'melodic', 'melodies', 'melody', 'member', 'members', 'memorable', 'memories', 'memory', 'men', 'mention', 'mere', 'merely', 'mess', 'message', 'met', 'metal', 'metallic', 'metaphor', 'mic', 'michael', 'mid', 'middle', 'might', 'mike', 'miles', 'milk', 'million', 'mind', 'minded', 'mine', 'mini', 'minimal', 'minimalism', 'minimalist', 'minor', 'minute', 'minutes', 'mirror', 'miss', 'missed', 'missing', 'mission', 'mix', 'mixed', 'mixes', 'mixing', 'mixtape', 'mode', 'modern', 'modest', 'moment', 'moments', 'momentum', 'money', 'monster', 'month', 'months', 'mood', 'moods', 'moody', 'moon', 'moore', 'more', 'morning', 'most', 'mostly', 'mother', 'motion', 'mountain', 'mournful', 'mouse', 'mouth', 'move', 'moved', 'movement', 'moves', 'movie', 'moving', 'mr', 'much', 'multi', 'multiple', 'murder', 'music', 'musical', 'musically', 'musician', 'musicians', 'must', 'muted', 'my', 'myself', 'mysterious', 'mystery', 'name', 'named', 'names', 'narrative', 'narrator', 'nation', 'national', 'native', 'natural', 'naturally', 'nature', 'near', 'nearly', 'necessarily', 'necessary', 'need', 'needed', 'needs', 'neil', 'neither', 'neon', 'never', 'new', 'newly', 'news', 'next', 'nice', 'nicely', 'nick', 'night', 'nights', 'nine', 'no', 'nobody', 'nod', 'nods', 'noise', 'noises', 'noisy', 'non', 'none', 'nonetheless', 'nor', 'north', 'nostalgia', 'nostalgic', 'not', 'notable', 'notably', 'note', 'notes', 'nothing', 'notice', 'notion', 'novel', 'novelty', 'now', 'nowhere', 'number', 'numbers', 'obscure', 'obvious', 'obviously', 'occasional', 'occasionally', 'ocean', 'odd', 'oddly', 'odds', 'ode', 'of', 'off', 'offer', 'offered', 'offering', 'offers', 'official', 'often', 'oh', 'ok', 'okay', 'old', 'older', 'oldham', 'ominous', 'on', 'once', 'one', 'ones', 'online', 'only', 'onto', 'open', 'opener', 'opening', 'opens', 'opportunity', 'opposite', 'or', 'orange', 'orchestra', 'orchestral', 'order', 'organ', 'organic', 'oriented', 'original', 'originally', 'other', 'others', 'otherwise', 'our', 'out', 'outfit', 'output', 'outside', 'over', 'overall', 'overly', 'overwhelming', 'own', 'pace', 'packed', 'page', 'pain', 'paint', 'pair', 'palette', 'paper', 'parents', 'park', 'part', 'particular', 'particularly', 'partner', 'parts', 'party', 'pass', 'passage', 'passages', 'passed', 'passing', 'passion', 'past', 'path', 'patience', 'patient', 'pattern', 'patterns', 'paul', 'pay', 'peace', 'peak', 'peaks', 'pedal', 'peers', 'people', 'percussion', 'percussive', 'perfect', 'perfectly', 'performance', 'performances', 'performed', 'performing', 'perhaps', 'period', 'person', 'persona', 'personal', 'personality', 'perspective', 'peter', 'phase', 'phone', 'phrase', 'phrases', 'physical', 'piano', 'pick', 'picked', 'picking', 'picture', 'piece', 'pieces', 'pink', 'pitch', 'pitched', 'pitchfork', 'place', 'placed', 'places', 'plain', 'plan', 'planet', 'plastic', 'play', 'played', 'player', 'players', 'playful', 'playing', 'plays', 'pleasant', 'please', 'pleasure', 'plenty', 'plus', 'poetry', 'point', 'points', 'police', 'polished', 'political', 'politics', 'pollard', 'poor', 'pop', 'popular', 'portrait', 'position', 'possibilities', 'possible', 'possibly', 'post', 'potent', 'potential', 'power', 'powerful', 'practically', 'practice', 'pre', 'precise', 'precision', 'predecessor', 'predictable', 'presence', 'present', 'presented', 'presents', 'press', 'pretty', 'previous', 'previously', 'primarily', 'primary', 'prince', 'prior', 'private', 'probably', 'problem', 'problems', 'process', 'produce', 'produced', 'producer', 'producers', 'product', 'production', 'productions', 'profile', 'prog', 'progression', 'project', 'projects', 'prolific', 'promise', 'promising', 'proof', 'proper', 'propulsive', 'prove', 'proved', 'proves', 'provide', 'provided', 'provides', 'providing', 'psych', 'psychedelia', 'psychedelic', 'public', 'pull', 'pulled', 'pulling', 'pulls', 'pulse', 'punch', 'punk', 'pure', 'purpose', 'push', 'pushed', 'pushes', 'pushing', 'put', 'puts', 'putting', 'qualities', 'quality', 'quartet', 'queen', 'question', 'questions', 'quick', 'quickly', 'quiet', 'quietly', 'quite', 'radio', 'radiohead', 'rage', 'rain', 'raised', 'random', 'range', 'rap', 'rapper', 'rappers', 'rapping', 'raps', 'rare', 'rarely', 'rather', 'rave', 'raw', 'ray', 're', 'reach', 'reaches', 'reaching', 'read', 'reading', 'ready', 'real', 'reality', 'realize', 'realized', 'really', 'realm', 'reason', 'reasons', 'recall', 'recalls', 'recent', 'recently', 'recognizable', 'record', 'recorded', 'recording', 'recordings', 'records', 'red', 'reed', 'reference', 'references', 'reflection', 'refrain', 'regardless', 'reggae', 'register', 'reissue', 'relationship', 'relationships', 'relative', 'relatively', 'release', 'released', 'releases', 'releasing', 'relentless', 'relief', 'remain', 'remains', 'remarkable', 'remarkably', 'remember', 'remind', 'reminder', 'reminds', 'reminiscent', 'remix', 'remixes', 'removed', 'rendered', 'repeat', 'repeated', 'repeating', 'repeats', 'repetition', 'repetitive', 'replaced', 'represents', 'reputation', 'resembles', 'respect', 'response', 'rest', 'restless', 'restraint', 'result', 'resulting', 'results', 'retro', 'return', 'returned', 'returns', 'reunion', 'reveal', 'revealing', 'reveals', 'reverb', 'review', 'revival', 'rhyme', 'rhymes', 'rhythm', 'rhythmic', 'rhythms', 'rich', 'richard', 'rick', 'ride', 'ridiculous', 'riff', 'riffs', 'right', 'ring', 'rise', 'rising', 'risk', 'river', 'road', 'robert', 'rock', 'rocker', 'rockers', 'role', 'roll', 'rolling', 'rolls', 'romance', 'romantic', 'room', 'rooted', 'roots', 'rose', 'ross', 'rough', 'round', 'run', 'running', 'runs', 'rush', 'russell', 'sad', 'sadness', 'safe', 'said', 'sam', 'same', 'sample', 'sampled', 'samples', 'sampling', 'san', 'sang', 'satisfying', 'save', 'saw', 'sax', 'saxophone', 'say', 'saying', 'says', 'scale', 'scattered', 'scene', 'scenes', 'school', 'sci', 'scope', 'score', 'scott', 'scream', 'screaming', 'screams', 'sea', 'search', 'searching', 'second', 'seconds', 'secret', 'section', 'see', 'seeing', 'seem', 'seemed', 'seemingly', 'seems', 'seen', 'sees', 'self', 'sell', 'selling', 'sense', 'sensibility', 'sentiment', 'separate', 'series', 'serious', 'seriously', 'serve', 'served', 'serves', 'service', 'session', 'sessions', 'set', 'sets', 'setting', 'seven', 'several', 'sex', 'sexual', 'shadow', 'shadows', 'shake', 'shame', 'shape', 'shapes', 'share', 'shared', 'shares', 'sharp', 'she', 'sheer', 'shift', 'shifting', 'shifts', 'shimmering', 'shine', 'shit', 'shock', 'shoegaze', 'short', 'shot', 'should', 'shouldn', 'shout', 'show', 'showcase', 'showed', 'showing', 'shows', 'shuffle', 'shy', 'sick', 'side', 'sides', 'sign', 'signature', 'signed', 'significant', 'silence', 'silent', 'silly', 'silver', 'similar', 'similarly', 'simon', 'simple', 'simplicity', 'simply', 'simultaneously', 'since', 'sing', 'singer', 'singers', 'singing', 'single', 'singles', 'sings', 'singular', 'sinister', 'sister', 'sit', 'site', 'sitting', 'six', 'sized', 'skill', 'skills', 'skin', 'sky', 'sleep', 'slick', 'slide', 'slight', 'slightly', 'slip', 'slow', 'slowly', 'sly', 'small', 'smart', 'smile', 'smith', 'smoke', 'smooth', 'snare', 'snow', 'so', 'soaring', 'social', 'society', 'soft', 'sold', 'solid', 'solo', 'solos', 'some', 'somebody', 'somehow', 'someone', 'something', 'sometimes', 'somewhat', 'somewhere', 'son', 'song', 'songs', 'songwriter', 'songwriters', 'songwriting', 'sonic', 'sonically', 'soon', 'sophomore', 'sort', 'sorts', 'soul', 'soulful', 'sound', 'sounded', 'sounding', 'sounds', 'soundtrack', 'source', 'south', 'southern', 'space', 'spaces', 'spare', 'sparse', 'speak', 'speaking', 'speaks', 'special', 'specific', 'specifically', 'speed', 'spend', 'spent', 'spin', 'spinning', 'spirit', 'spiritual', 'split', 'spoken', 'spot', 'spotlight', 'sprawling', 'spring', 'springsteen', 'st', 'stage', 'stakes', 'stand', 'standard', 'standards', 'standing', 'standout', 'stands', 'star', 'stark', 'stars', 'start', 'started', 'starting', 'starts', 'state', 'statement', 'states', 'static', 'station', 'status', 'stay', 'steady', 'steel', 'step', 'steps', 'stereo', 'steve', 'stick', 'sticks', 'still', 'stomp', 'stone', 'stones', 'stop', 'store', 'stories', 'storm', 'story', 'straight', 'straightforward', 'strange', 'strangely', 'stranger', 'stream', 'street', 'streets', 'strength', 'strengths', 'stretch', 'stretches', 'striking', 'string', 'strings', 'stripped', 'strokes', 'strong', 'stronger', 'strongest', 'structure', 'structures', 'struggle', 'stuck', 'studio', 'stuff', 'stunning', 'style', 'styles', 'stylistic', 'sub', 'subdued', 'subject', 'subsequent', 'subtle', 'subtly', 'success', 'successful', 'such', 'sudden', 'suddenly', 'sugar', 'suggest', 'suggested', 'suggesting', 'suggests', 'suicide', 'suit', 'suite', 'suited', 'summer', 'sun', 'sung', 'sunny', 'super', 'support', 'supposed', 'sure', 'surely', 'surf', 'surface', 'surprise', 'surprising', 'surprisingly', 'swagger', 'sweeping', 'sweet', 'swing', 'synth', 'synthesizer', 'synthesizers', 'synths', 'system', 'table', 'take', 'taken', 'takes', 'taking', 'tale', 'talent', 'talents', 'tales', 'talk', 'talking', 'tape', 'tapes', 'taste', 'taylor', 'team', 'tears', 'technical', 'technique', 'techno', 'technology', 'teen', 'teenage', 'teeth', 'television', 'tell', 'telling', 'tells', 'template', 'tempo', 'tempos', 'ten', 'tend', 'tendencies', 'tendency', 'tender', 'tends', 'tense', 'tension', 'term', 'terms', 'territory', 'test', 'testament', 'texture', 'textures', 'than', 'thankfully', 'thanks', 'that', 'the', 'their', 'them', 'theme', 'themes', 'themselves', 'then', 'theory', 'there', 'these', 'they', 'thick', 'thin', 'thing', 'things', 'think', 'thinking', 'third', 'this', 'thomas', 'those', 'though', 'thought', 'thoughts', 'three', 'thrilling', 'throat', 'through', 'throughout', 'throw', 'throwback', 'throwing', 'thug', 'tight', 'tightly', 'tim', 'time', 'times', 'tinged', 'tiny', 'tired', 'title', 'titled', 'titles', 'to', 'today', 'together', 'told', 'tom', 'tomorrow', 'tone', 'tones', 'tongue', 'tonight', 'too', 'took', 'top', 'total', 'totally', 'touch', 'touches', 'tough', 'tour', 'touring', 'toward', 'towards', 'town', 'track', 'tracks', 'trade', 'tradition', 'traditional', 'train', 'trance', 'transition', 'trap', 'tree', 'trees', 'tribute', 'trick', 'tricks', 'tried', 'tries', 'trio', 'trip', 'triumphant', 'tropes', 'trouble', 'true', 'truly', 'trumpet', 'truth', 'try', 'trying', 'tune', 'tuned', 'tunes', 'turn', 'turned', 'turning', 'turns', 'tv', 'twice', 'twin', 'twist', 'two', 'type', 'typical', 'typically', 'ugly', 'uk', 'ultimately', 'under', 'underground', 'underneath', 'understand', 'understanding', 'understated', 'unexpected', 'unfortunately', 'unique', 'universal', 'universe', 'unknown', 'unlike', 'unlikely', 'unpredictable', 'unreleased', 'until', 'unusual', 'up', 'upbeat', 'upon', 'ups', 'urban', 'urgency', 'us', 'use', 'used', 'uses', 'using', 'usual', 'usually', 'vague', 'vaguely', 'value', 'van', 'variations', 'varied', 'variety', 'various', 'vast', 've', 'vein', 'velvet', 'verse', 'verses', 'version', 'versions', 'very', 'via', 'vibe', 'video', 'videos', 'view', 'vintage', 'vinyl', 'violence', 'violent', 'violin', 'visceral', 'vision', 'visual', 'vivid', 'vocal', 'vocalist', 'vocalists', 'vocals', 'voice', 'voices', 'void', 'volume', 'wait', 'waiting', 'wake', 'walk', 'walker', 'walking', 'wall', 'walls', 'wanna', 'want', 'wanted', 'wants', 'war', 'warm', 'warmth', 'warped', 'was', 'wasn', 'watch', 'watching', 'water', 'wave', 'waves', 'way', 'wayne', 'ways', 'we', 'wearing', 'weather', 'week', 'weekend', 'weeks', 'weight', 'weird', 'welcome', 'well', 'went', 'were', 'weren', 'west', 'western', 'what', 'whatever', 'when', 'where', 'whereas', 'whether', 'which', 'while', 'whisper', 'white', 'who', 'whole', 'whom', 'whose', 'why', 'wide', 'wife', 'wild', 'will', 'williams', 'willing', 'wilson', 'wind', 'window', 'winter', 'wire', 'wisdom', 'wise', 'wish', 'wistful', 'wit', 'with', 'within', 'without', 'wolf', 'woman', 'women', 'won', 'wonder', 'wonderful', 'woods', 'woozy', 'word', 'wordless', 'words', 'work', 'worked', 'working', 'works', 'world', 'worlds', 'worn', 'worse', 'worst', 'worth', 'worthy', 'would', 'wouldn', 'wound', 'write', 'writer', 'writes', 'writing', 'written', 'wrong', 'wrote', 'yeah', 'year', 'yearning', 'years', 'yes', 'yet', 'yo', 'york', 'you', 'young', 'younger', 'your', 'yourself', 'youth', 'zero', 'zone', 'amongst', 'nevertheless', 'hereafter', 'i', 'sometime', 'mill', 'hundred', 'hereby', 'whence', 'whither', 'couldnt', 'thru', 'cant', 'anyhow', 'thereupon', 'herein', 'beforehand', 'yours', 'twenty', 'per', 'fifty', 'thence', 'amoungst', 'sincere', 'noone', 'yourselves', 'whereafter', 'eleven', 'wherein', 'ltd', 'beside', 'below', 'hers', 'whoever', 'ours', 'sixty', 'etc', 'afterwards', 'ourselves', 'twelve', 'therein', 'thereafter', 'namely', 'therefore', 'formerly', 'thus', 'cannot', 'inc', 'ie', 'whereupon', 'seeming', 'thereby', 'hereupon', 'hasnt', 'latterly', 'whenever', 'hence', 'forty', 'wherever', 'fifteen', 'un', 'moreover', 'whereby', 'a', 'eg', 'con']}\n",
      "0.14805761592357722\n"
     ]
    }
   ],
   "source": [
    "# Define X and y\n",
    "X = df_token['review']\n",
    "y = df_token['score']\n",
    "\n",
    "# Do a train_test_split of X and y\n",
    "X_train, X_test, y_train, y_test = train_test_split(X, \n",
    "                                                    y, \n",
    "                                                    random_state = 1957)\n",
    "\n",
    "#  Create a pipeline with CountVectorizer and Linear Regression\n",
    "pipe = Pipeline([\n",
    "   ('cvec', CountVectorizer()),\n",
    "   ('lr', LinearRegression())\n",
    "])\n",
    "\n",
    "# Create pipeline parameters\n",
    "pipe_params = {\n",
    "    'cvec__max_features' : [2000, 3000, 4000, 5000],\n",
    "    'cvec__stop_words' : [stop_words_token],\n",
    "    'cvec__ngram_range' : [(1, 4), (1, 5), (1, 6)]\n",
    "}\n",
    "\n",
    "# Gridsearch over Pipeline and Pipeline parameters\n",
    "gs = GridSearchCV(pipe,\n",
    "                  pipe_params, \n",
    "                  cv = 5) \n",
    "\n",
    "gs.fit(X_train, y_train)\n",
    "print(gs.best_params_)\n",
    "print(gs.best_score_)"
   ]
  },
  {
   "cell_type": "markdown",
   "metadata": {},
   "source": [
    "**Decision Tree Regressor**"
   ]
  },
  {
   "cell_type": "code",
   "execution_count": 84,
   "metadata": {},
   "outputs": [
    {
     "name": "stdout",
     "output_type": "stream",
     "text": [
      "{'cvec__max_features': 4000, 'cvec__ngram_range': (1, 5)}\n",
      "-0.6938216979596689\n"
     ]
    }
   ],
   "source": [
    "# Define X and y\n",
    "X = df_token['review']\n",
    "y = df_token['score']\n",
    "\n",
    "# Do a train_test_split of X and y\n",
    "X_train, X_test, y_train, y_test = train_test_split(X, \n",
    "                                                    y, \n",
    "                                                    random_state = 1957)\n",
    "\n",
    "\n",
    "#Instantiate an instance of CountVectorizer\n",
    "cvec = CountVectorizer()\n",
    "\n",
    "# Fit and transform X_train with the CountVectorizer\n",
    "X_train_df = cvec.fit_transform(X_train).astype('int8')\n",
    "X_train_df = pd.DataFrame(X_train_df.toarray(),\n",
    "                          columns = cvec.get_feature_names(),\n",
    "                          index = X_train.index)\n",
    "\n",
    "# Call the funciton defined above to remove inconsequential columns\n",
    "X_train_df = drop_columns(X_train_df, 2)\n",
    "\n",
    "print('X_train finished processing')\n",
    "\n",
    "# Do the same thing for X_test\n",
    "X_test_df = cvec.transform(X_test).astype('int8')\n",
    "X_test_df = pd.DataFrame(X_test_df.toarray(),\n",
    "                         columns = cvec.get_feature_names(),\n",
    "                         index = X_test.index)\n",
    "\n",
    "# Call the funciton defined above to remove inconsequential columns\n",
    "X_test_df = drop_columns(X_test_df, 2)\n",
    "\n",
    "print('X_test finished processing')\n",
    "\n",
    "#  Create a pipeline with CountVectorizer and Linear Regression\n",
    "pipe = Pipeline([\n",
    "    ('cvec', CountVectorizer(stop_words = stop_words_token)),\n",
    "    ('dr', DecisionTreeRegressor())\n",
    "])\n",
    "\n",
    "# Create pipeline parameters\n",
    "pipe_params = {\n",
    "    'cvec__max_features' : [2000, 3000, 4000, 5000],\n",
    "    'cvec__ngram_range' : [(1, 4), (1, 5), (1, 6)]\n",
    "}\n",
    "\n",
    "# Gridsearch over Pipeline and Pipeline parameters\n",
    "gs = GridSearchCV(pipe,\n",
    "                  pipe_params, \n",
    "                  cv = 5) \n",
    "\n",
    "gs.fit(X_train, y_train)\n",
    "print(gs.best_params_)\n",
    "print(gs.best_score_)"
   ]
  },
  {
   "cell_type": "markdown",
   "metadata": {},
   "source": [
    "**Linear Regression**"
   ]
  },
  {
   "cell_type": "code",
   "execution_count": 67,
   "metadata": {},
   "outputs": [
    {
     "name": "stdout",
     "output_type": "stream",
     "text": [
      "Train score of this model is 0.49327878528017943\n",
      "Test score of this model is 0.31220137112574664\n",
      "Cross val score is 0.26781635911916585\n"
     ]
    }
   ],
   "source": [
    "# Create X and y variables\n",
    "\n",
    "features = ['review', 'release_date', 'review_length', 'artist_freq', 'label_freq', \n",
    "            'Electronic', 'Experimental', 'Folk/Country', 'Global', 'Jazz', 'Metal', \n",
    "            'Pop/R&B', 'Rap', 'Rock']\n",
    "\n",
    "# Define X and y\n",
    "X = df[features]\n",
    "y = df['score']\n",
    "\n",
    "# Do a train_test_split of X and y\n",
    "X_train, X_test, y_train, y_test = train_test_split(X, \n",
    "                                                    y, \n",
    "                                                    random_state = 1957)\n",
    "\n",
    "\n",
    "cvec = CountVectorizer(max_features = 2000,\n",
    "                       ngram_range = (1, 4),\n",
    "                       stop_words = 'english')\n",
    "\n",
    "review_train = cvec.fit_transform(X_train['review']).astype('int8')\n",
    "review_train = pd.DataFrame(review_train.toarray(),\n",
    "                            columns = cvec.get_feature_names(), \n",
    "                            index = X_train.index)\n",
    "review_train = drop_columns(review_train, 2)\n",
    "X_train = pd.concat([X_train, review_train], ignore_index = False, axis = 1)\n",
    "\n",
    "\n",
    "review_test = cvec.transform(X_test['review']).astype('int8')\n",
    "review_test = pd.DataFrame(review_test.toarray(),\n",
    "                           columns = cvec.get_feature_names(),\n",
    "                           index = X_test.index)\n",
    "review_test = drop_columns(review_test, 2)\n",
    "X_test = pd.concat([X_test, review_test], ignore_index = False, axis = 1)\n",
    "\n",
    "X_train.drop(columns = ['review'], inplace = True)\n",
    "X_test.drop(columns = ['review'], inplace = True)\n",
    "\n",
    "lr = LinearRegression()\n",
    "\n",
    "lr.fit(X_train, y_train)\n",
    "\n",
    "print(f'Train score of this model is {lr.score(X_train, y_train)}')\n",
    "print(f'Test score of this model is {lr.score(X_test, y_test)}')\n",
    "print(f'Cross val score is {cross_val_score(lr, X_train, y_train, cv = 5).mean()}') "
   ]
  },
  {
   "cell_type": "markdown",
   "metadata": {},
   "source": [
    "**Linear Regression**"
   ]
  },
  {
   "cell_type": "code",
   "execution_count": 72,
   "metadata": {},
   "outputs": [
    {
     "name": "stdout",
     "output_type": "stream",
     "text": [
      "Train score of this model is 0.4932921753402514\n",
      "Test score of this model is 0.3122143037138704\n",
      "Cross val score is 0.2678209758265903\n"
     ]
    }
   ],
   "source": [
    "# Create X and y variables\n",
    "\n",
    "features = ['review', 'release_date', 'review_length', 'artist_freq', 'label_freq', \n",
    "            'Electronic', 'Experimental', 'Folk/Country', 'Global', 'Jazz', 'Metal', \n",
    "            'Pop/R&B', 'Rap', 'Rock']\n",
    "\n",
    "# Define X and y\n",
    "X = df[features]\n",
    "y = df['score']\n",
    "\n",
    "# Do a train_test_split of X and y\n",
    "X_train, X_test, y_train, y_test = train_test_split(X, \n",
    "                                                    y, \n",
    "                                                    random_state = 1957)\n",
    "\n",
    "\n",
    "cvec = CountVectorizer(max_df = 0.9, \n",
    "                       max_features = 2000, \n",
    "                       min_df = 2, \n",
    "                       ngram_range = (1, 4), \n",
    "                       stop_words = 'english')\n",
    "\n",
    "review_train = cvec.fit_transform(X_train['review']).astype('int8')\n",
    "review_train = pd.DataFrame(review_train.toarray(),\n",
    "                            columns = cvec.get_feature_names(), \n",
    "                            index = X_train.index)\n",
    "review_train = drop_columns(review_train, 2)\n",
    "X_train = pd.concat([X_train, review_train], ignore_index = False, axis = 1)\n",
    "\n",
    "\n",
    "review_test = cvec.transform(X_test['review']).astype('int8')\n",
    "review_test = pd.DataFrame(review_test.toarray(),\n",
    "                           columns = cvec.get_feature_names(),\n",
    "                           index = X_test.index)\n",
    "review_test = drop_columns(review_test, 2)\n",
    "X_test = pd.concat([X_test, review_test], ignore_index = False, axis = 1)\n",
    "\n",
    "X_train.drop(columns = ['review'], inplace = True)\n",
    "X_test.drop(columns = ['review'], inplace = True)\n",
    "\n",
    "lr = LinearRegression()\n",
    "\n",
    "lr.fit(X_train, y_train)\n",
    "\n",
    "print(f'Train score of this model is {lr.score(X_train, y_train)}')\n",
    "print(f'Test score of this model is {lr.score(X_test, y_test)}')\n",
    "print(f'Cross val score is {cross_val_score(lr, X_train, y_train, cv = 5).mean()}') "
   ]
  },
  {
   "cell_type": "code",
   "execution_count": null,
   "metadata": {},
   "outputs": [],
   "source": []
  }
 ],
 "metadata": {
  "kernelspec": {
   "display_name": "Python 3",
   "language": "python",
   "name": "python3"
  },
  "language_info": {
   "codemirror_mode": {
    "name": "ipython",
    "version": 3
   },
   "file_extension": ".py",
   "mimetype": "text/x-python",
   "name": "python",
   "nbconvert_exporter": "python",
   "pygments_lexer": "ipython3",
   "version": "3.7.6"
  }
 },
 "nbformat": 4,
 "nbformat_minor": 4
}
