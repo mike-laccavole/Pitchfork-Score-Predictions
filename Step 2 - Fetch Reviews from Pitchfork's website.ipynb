{
 "cells": [
  {
   "cell_type": "markdown",
   "metadata": {},
   "source": [
    "# Step 2 - Fetch Reviews from Pitchfork's website"
   ]
  },
  {
   "cell_type": "markdown",
   "metadata": {},
   "source": [
    "Now that we have a list of URLs that each correspond to an individual review on pitchfork.com, we can create a function that will fetch specified information from the review's location on pitchfork's website."
   ]
  },
  {
   "cell_type": "code",
   "execution_count": 3,
   "metadata": {},
   "outputs": [],
   "source": [
    "# Make necessary imports\n",
    "\n",
    "import numpy as np\n",
    "import pandas as pd\n",
    "import requests\n",
    "from bs4 import BeautifulSoup\n",
    "import time"
   ]
  },
  {
   "cell_type": "markdown",
   "metadata": {},
   "source": [
    "**Read in our CSV**"
   ]
  },
  {
   "cell_type": "code",
   "execution_count": 62,
   "metadata": {
    "scrolled": true
   },
   "outputs": [],
   "source": [
    "# Read in the CSV of \n",
    "partial_urls = pd.read_csv('./datasets/partial_pitchfork_urls.csv')"
   ]
  },
  {
   "cell_type": "markdown",
   "metadata": {},
   "source": [
    "**Define Function**\n",
    "\n",
    "The function defined below takes a list of URLs fom www.pitchfork.com and "
   ]
  },
  {
   "cell_type": "code",
   "execution_count": 148,
   "metadata": {},
   "outputs": [],
   "source": [
    "# Create variable for the pitchfork website section where reviews are kept\n",
    "pitchfork = 'https://pitchfork.com'\n",
    "\n",
    "def scrape_pitchfork(list_of_urls):\n",
    "    \n",
    "    # Create a dataframe to store all the reviews\n",
    "    df = pd.DataFrame(columns=['album', 'artist', 'score', 'genre', 'date', 'label', 'author', 'review'])\n",
    "    \n",
    "    for url in list_of_urls:\n",
    "\n",
    "        # Request content from website\n",
    "        # Use try/except in case \n",
    "        try:\n",
    "            res = requests.get(pitchfork + url)\n",
    "        except:\n",
    "            pass\n",
    "        \n",
    "        # Instantiate and get content from soup item\n",
    "        soup = BeautifulSoup(res.content, 'lxml')\n",
    "        \n",
    "        # Using try/except, capture the following information from the review site\n",
    "        # Try/except will work to let this function continue to operate if errors come up,\n",
    "        #\\n i.e., if a review is missing information such as genre, label, or author\n",
    "        try:\n",
    "            review = {\n",
    "\n",
    "                'album' : soup.find('h1', {'class': 'single-album-tombstone__review-title'}).text,\n",
    "                'artist' : soup.find('ul', {'class': 'artist-links artist-list single-album-tombstone__artist-links'}).text,\n",
    "                'score' : soup.find('span', {'class': 'score'}).text,\n",
    "                'genre' : soup.find('a', {'class': 'genre-list__link'}).text,\n",
    "                'date' : soup.find('span', {'class': 'single-album-tombstone__meta-year'}).text[3:],\n",
    "                'label' : soup.find('li', {'class': 'labels-list__item'}).text,\n",
    "                'author' : soup.find('a', {'class': 'authors-detail__display-name'}).text,\n",
    "                'review' : soup.find('div', {'class': 'contents dropcap'}).text.replace('\\n', ' ')\n",
    "            }\n",
    "        \n",
    "        except:\n",
    "            pass\n",
    "        \n",
    "        # Add the newly fetched review to our dataframe\n",
    "        df = df.append(review, ignore_index = True)\n",
    "        \n",
    "    return df\n",
    "    "
   ]
  },
  {
   "cell_type": "markdown",
   "metadata": {},
   "source": [
    " "
   ]
  },
  {
   "cell_type": "code",
   "execution_count": 156,
   "metadata": {},
   "outputs": [],
   "source": [
    "# Call the function to scrape our list of URLs\n",
    "reviews = scrape_pitchfork(partial_urls['url'])"
   ]
  },
  {
   "cell_type": "markdown",
   "metadata": {},
   "source": [
    "**Check work**\n",
    "\n",
    "How did the function perform?"
   ]
  },
  {
   "cell_type": "code",
   "execution_count": 157,
   "metadata": {},
   "outputs": [
    {
     "data": {
      "text/plain": [
       "(21599, 8)"
      ]
     },
     "execution_count": 157,
     "metadata": {},
     "output_type": "execute_result"
    }
   ],
   "source": [
    "# Check the shape -- how many reviews did we get?\n",
    "reviews.shape"
   ]
  },
  {
   "cell_type": "code",
   "execution_count": 158,
   "metadata": {},
   "outputs": [
    {
     "data": {
      "text/html": [
       "<div>\n",
       "<style scoped>\n",
       "    .dataframe tbody tr th:only-of-type {\n",
       "        vertical-align: middle;\n",
       "    }\n",
       "\n",
       "    .dataframe tbody tr th {\n",
       "        vertical-align: top;\n",
       "    }\n",
       "\n",
       "    .dataframe thead th {\n",
       "        text-align: right;\n",
       "    }\n",
       "</style>\n",
       "<table border=\"1\" class=\"dataframe\">\n",
       "  <thead>\n",
       "    <tr style=\"text-align: right;\">\n",
       "      <th></th>\n",
       "      <th>album</th>\n",
       "      <th>artist</th>\n",
       "      <th>score</th>\n",
       "      <th>genre</th>\n",
       "      <th>date</th>\n",
       "      <th>label</th>\n",
       "      <th>author</th>\n",
       "      <th>review</th>\n",
       "    </tr>\n",
       "  </thead>\n",
       "  <tbody>\n",
       "    <tr>\n",
       "      <th>0</th>\n",
       "      <td>Set My Heart on Fire Immediately</td>\n",
       "      <td>Perfume Genius</td>\n",
       "      <td>9.0</td>\n",
       "      <td>Pop/R&amp;B</td>\n",
       "      <td>2020</td>\n",
       "      <td>Matador</td>\n",
       "      <td>Madison Bloom</td>\n",
       "      <td>Each Perfume Genius album is a metamorphosis. ...</td>\n",
       "    </tr>\n",
       "    <tr>\n",
       "      <th>1</th>\n",
       "      <td>WILL THIS MAKE ME GOOD</td>\n",
       "      <td>Nick Hakim</td>\n",
       "      <td>6.0</td>\n",
       "      <td>Rock</td>\n",
       "      <td>2020</td>\n",
       "      <td>ATO</td>\n",
       "      <td>Jonah Bromwich</td>\n",
       "      <td>Nick Hakim’s compulsively listenable debut alb...</td>\n",
       "    </tr>\n",
       "    <tr>\n",
       "      <th>2</th>\n",
       "      <td>Every Sun, Every Moon</td>\n",
       "      <td>I'm Glad It's You</td>\n",
       "      <td>7.4</td>\n",
       "      <td>Rock</td>\n",
       "      <td>2020</td>\n",
       "      <td>6131</td>\n",
       "      <td>Arielle Gordon</td>\n",
       "      <td>Grief casts a shadow over the past. It lends n...</td>\n",
       "    </tr>\n",
       "    <tr>\n",
       "      <th>3</th>\n",
       "      <td>The Quickening</td>\n",
       "      <td>Jim WhiteMarisa Anderson</td>\n",
       "      <td>7.8</td>\n",
       "      <td>Rock</td>\n",
       "      <td>2020</td>\n",
       "      <td>Thrill Jockey</td>\n",
       "      <td>Jesse Jarnow</td>\n",
       "      <td>The Quickening opens with an ecstatic swirl of...</td>\n",
       "    </tr>\n",
       "    <tr>\n",
       "      <th>4</th>\n",
       "      <td>Dare</td>\n",
       "      <td>The Human League</td>\n",
       "      <td>9.1</td>\n",
       "      <td>Electronic</td>\n",
       "      <td>1981</td>\n",
       "      <td>Virgin</td>\n",
       "      <td>Brad Nelson</td>\n",
       "      <td>In late 1980, the singer Philip Oakey was sche...</td>\n",
       "    </tr>\n",
       "  </tbody>\n",
       "</table>\n",
       "</div>"
      ],
      "text/plain": [
       "                              album                    artist score  \\\n",
       "0  Set My Heart on Fire Immediately            Perfume Genius   9.0   \n",
       "1            WILL THIS MAKE ME GOOD                Nick Hakim   6.0   \n",
       "2             Every Sun, Every Moon         I'm Glad It's You   7.4   \n",
       "3                    The Quickening  Jim WhiteMarisa Anderson   7.8   \n",
       "4                              Dare          The Human League   9.1   \n",
       "\n",
       "        genre  date          label          author  \\\n",
       "0     Pop/R&B  2020        Matador   Madison Bloom   \n",
       "1        Rock  2020            ATO  Jonah Bromwich   \n",
       "2        Rock  2020           6131  Arielle Gordon   \n",
       "3        Rock  2020  Thrill Jockey    Jesse Jarnow   \n",
       "4  Electronic  1981         Virgin     Brad Nelson   \n",
       "\n",
       "                                              review  \n",
       "0  Each Perfume Genius album is a metamorphosis. ...  \n",
       "1  Nick Hakim’s compulsively listenable debut alb...  \n",
       "2  Grief casts a shadow over the past. It lends n...  \n",
       "3  The Quickening opens with an ecstatic swirl of...  \n",
       "4  In late 1980, the singer Philip Oakey was sche...  "
      ]
     },
     "execution_count": 158,
     "metadata": {},
     "output_type": "execute_result"
    }
   ],
   "source": [
    "# Check the head of the dataframe\n",
    "reviews.head()"
   ]
  },
  {
   "cell_type": "code",
   "execution_count": 159,
   "metadata": {},
   "outputs": [
    {
     "data": {
      "text/html": [
       "<div>\n",
       "<style scoped>\n",
       "    .dataframe tbody tr th:only-of-type {\n",
       "        vertical-align: middle;\n",
       "    }\n",
       "\n",
       "    .dataframe tbody tr th {\n",
       "        vertical-align: top;\n",
       "    }\n",
       "\n",
       "    .dataframe thead th {\n",
       "        text-align: right;\n",
       "    }\n",
       "</style>\n",
       "<table border=\"1\" class=\"dataframe\">\n",
       "  <thead>\n",
       "    <tr style=\"text-align: right;\">\n",
       "      <th></th>\n",
       "      <th>album</th>\n",
       "      <th>artist</th>\n",
       "      <th>score</th>\n",
       "      <th>genre</th>\n",
       "      <th>date</th>\n",
       "      <th>label</th>\n",
       "      <th>author</th>\n",
       "      <th>review</th>\n",
       "    </tr>\n",
       "  </thead>\n",
       "  <tbody>\n",
       "    <tr>\n",
       "      <th>21594</th>\n",
       "      <td>Ten New Songs</td>\n",
       "      <td>Leonard Cohen</td>\n",
       "      <td>8.0</td>\n",
       "      <td>Rock</td>\n",
       "      <td>¢ 2001</td>\n",
       "      <td>Columbia</td>\n",
       "      <td>Dominique Leone</td>\n",
       "      <td>I should get one thing out of the way before t...</td>\n",
       "    </tr>\n",
       "    <tr>\n",
       "      <th>21595</th>\n",
       "      <td></td>\n",
       "      <td>Triangle</td>\n",
       "      <td>2.7</td>\n",
       "      <td>Rock</td>\n",
       "      <td>¢ 2001</td>\n",
       "      <td>File-13</td>\n",
       "      <td>Dan Kilian</td>\n",
       "      <td>In the fringes of obscurity, a new battle will...</td>\n",
       "    </tr>\n",
       "    <tr>\n",
       "      <th>21596</th>\n",
       "      <td></td>\n",
       "      <td>Triangle</td>\n",
       "      <td>2.7</td>\n",
       "      <td>Rock</td>\n",
       "      <td>¢ 2001</td>\n",
       "      <td>File-13</td>\n",
       "      <td>Dan Kilian</td>\n",
       "      <td>In the fringes of obscurity, a new battle will...</td>\n",
       "    </tr>\n",
       "    <tr>\n",
       "      <th>21597</th>\n",
       "      <td>Kekeland</td>\n",
       "      <td>Brigitte Fontaine</td>\n",
       "      <td>8.0</td>\n",
       "      <td>Pop/R&amp;B</td>\n",
       "      <td>2001</td>\n",
       "      <td>Virgin</td>\n",
       "      <td>Andi Rowlands</td>\n",
       "      <td>With the recent rebirth of Paris and its arts,...</td>\n",
       "    </tr>\n",
       "    <tr>\n",
       "      <th>21598</th>\n",
       "      <td>Please Smile My Noise Bleed</td>\n",
       "      <td>Múm</td>\n",
       "      <td>8.7</td>\n",
       "      <td>Electronic</td>\n",
       "      <td>2001</td>\n",
       "      <td>Morr</td>\n",
       "      <td>Christopher F. Schiel</td>\n",
       "      <td>Here's the setup: Icelandic foursome, describe...</td>\n",
       "    </tr>\n",
       "  </tbody>\n",
       "</table>\n",
       "</div>"
      ],
      "text/plain": [
       "                             album             artist score       genre  \\\n",
       "21594                Ten New Songs      Leonard Cohen   8.0        Rock   \n",
       "21595                                        Triangle   2.7        Rock   \n",
       "21596                                        Triangle   2.7        Rock   \n",
       "21597                     Kekeland  Brigitte Fontaine   8.0     Pop/R&B   \n",
       "21598  Please Smile My Noise Bleed                Múm   8.7  Electronic   \n",
       "\n",
       "         date     label                 author  \\\n",
       "21594  ¢ 2001  Columbia        Dominique Leone   \n",
       "21595  ¢ 2001   File-13             Dan Kilian   \n",
       "21596  ¢ 2001   File-13             Dan Kilian   \n",
       "21597    2001    Virgin          Andi Rowlands   \n",
       "21598    2001      Morr  Christopher F. Schiel   \n",
       "\n",
       "                                                  review  \n",
       "21594  I should get one thing out of the way before t...  \n",
       "21595  In the fringes of obscurity, a new battle will...  \n",
       "21596  In the fringes of obscurity, a new battle will...  \n",
       "21597  With the recent rebirth of Paris and its arts,...  \n",
       "21598  Here's the setup: Icelandic foursome, describe...  "
      ]
     },
     "execution_count": 159,
     "metadata": {},
     "output_type": "execute_result"
    }
   ],
   "source": [
    "# Check the tail of the dataframe\n",
    "reviews.tail()"
   ]
  },
  {
   "cell_type": "markdown",
   "metadata": {},
   "source": [
    "**Duplicates**\n",
    "\n",
    "There are duplicates that this function creates that can be seen simply in calling the head and tail of the dataframe, which were likely created when the try/except clause was generated from the web scraper encountering an error (this pattern was noted when I was testing the function before pulling all reviews). \n",
    "\n",
    "We'll drop duplicates before moving on to EDA and further data analysis."
   ]
  },
  {
   "cell_type": "code",
   "execution_count": 161,
   "metadata": {
    "scrolled": true
   },
   "outputs": [],
   "source": [
    "# Drop duplicates\n",
    "reviews = reviews.drop_duplicates()"
   ]
  },
  {
   "cell_type": "code",
   "execution_count": 162,
   "metadata": {},
   "outputs": [
    {
     "data": {
      "text/plain": [
       "(19231, 8)"
      ]
     },
     "execution_count": 162,
     "metadata": {},
     "output_type": "execute_result"
    }
   ],
   "source": [
    "# The cell above dropped 2,368 reviews\n",
    "reviews.shape"
   ]
  },
  {
   "cell_type": "code",
   "execution_count": 164,
   "metadata": {},
   "outputs": [
    {
     "data": {
      "text/plain": [
       "album     0\n",
       "artist    0\n",
       "score     0\n",
       "genre     0\n",
       "date      0\n",
       "label     0\n",
       "author    0\n",
       "review    0\n",
       "dtype: int64"
      ]
     },
     "execution_count": 164,
     "metadata": {},
     "output_type": "execute_result"
    }
   ],
   "source": [
    "# Look for any null values\n",
    "reviews.isnull().sum()"
   ]
  },
  {
   "cell_type": "code",
   "execution_count": 165,
   "metadata": {},
   "outputs": [],
   "source": [
    "# Save final CSV to dataset folder\n",
    "reviews.to_csv(r'./datasets/pitchfork_reviews.csv')"
   ]
  }
 ],
 "metadata": {
  "kernelspec": {
   "display_name": "Python 3",
   "language": "python",
   "name": "python3"
  },
  "language_info": {
   "codemirror_mode": {
    "name": "ipython",
    "version": 3
   },
   "file_extension": ".py",
   "mimetype": "text/x-python",
   "name": "python",
   "nbconvert_exporter": "python",
   "pygments_lexer": "ipython3",
   "version": "3.7.6"
  }
 },
 "nbformat": 4,
 "nbformat_minor": 4
}
