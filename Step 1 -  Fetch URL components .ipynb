{
 "cells": [
  {
   "cell_type": "markdown",
   "metadata": {},
   "source": [
    "# Step 1 - Fetch URL components "
   ]
  },
  {
   "cell_type": "markdown",
   "metadata": {},
   "source": [
    "Pitchfork's website has all the reviews on the same webpage, https://pitchfork.com/reviews/albums/. In order to get to each individual review and scrape for necessary information, I first had to gather a list of each review's URL. Through exploring pitchfork's website, I was able to find the URLs embedded in the website's HTML. The pages below were able to find those URL components, scrape them from pitchfork's website, save them to a dataframe, and export it from this notebook as a CSV file."
   ]
  },
  {
   "cell_type": "markdown",
   "metadata": {},
   "source": [
    "**Import necessary libraries**"
   ]
  },
  {
   "cell_type": "code",
   "execution_count": 1,
   "metadata": {},
   "outputs": [],
   "source": [
    "# Make necessary imports\n",
    "\n",
    "import numpy as np\n",
    "import pandas as pd\n",
    "import requests\n",
    "from bs4 import BeautifulSoup\n",
    "import time"
   ]
  },
  {
   "cell_type": "markdown",
   "metadata": {},
   "source": [
    "**Define function to Scrape www.pitchfork.com and find URL components**"
   ]
  },
  {
   "cell_type": "code",
   "execution_count": 25,
   "metadata": {},
   "outputs": [],
   "source": [
    "# Create an empty list to append URLs to\n",
    "urls = []\n",
    "\n",
    "# Create variable for the section of pitchfork's website where reviews are kept\n",
    "pitchfork = 'https://pitchfork.com/reviews/albums/?page='\n",
    "\n",
    "# Define a function to fetch reviews in \n",
    "def fetch_urls(website):\n",
    "    \n",
    "    # Determine how many pages of reviews to scrape\n",
    "    nums = range(1, 1800)\n",
    "    \n",
    "    # Start for loop \n",
    "    for num in nums:\n",
    "        \n",
    "        # Turn number to string so it can be included in URL\n",
    "        num = str(num)\n",
    "    \n",
    "        # Request content from website\n",
    "        res = requests.get(url + num)\n",
    "    \n",
    "        # Instantiate instance of Beautiful Soup\n",
    "        soup = BeautifulSoup()\n",
    "    \n",
    "        # Get content from soup item\n",
    "        soup = BeautifulSoup(res.content, 'lxml')\n",
    "    \n",
    "        # Find all review URLs on the the current page\n",
    "        # Method found on Stack Overflow: https://stackoverflow.com/questions/5041008/how-to-find-elements-by-class\n",
    "        revs = soup.findAll('a', {'class': 'review__link'})\n",
    "    \n",
    "        # Narrow down to just the bits of necessary hyperlink\n",
    "        revs = [rev.get('href') for rev in revs]\n",
    "        \n",
    "        # Loop through revs\n",
    "        for rev in revs:\n",
    "        \n",
    "            # Append each rev\n",
    "            urls.append(rev)\n",
    "    \n",
    "        # Slow down loop so as not to over-burn pitchfork's servers\n",
    "        #time.sleep(3)"
   ]
  },
  {
   "cell_type": "code",
   "execution_count": 26,
   "metadata": {},
   "outputs": [],
   "source": [
    "# Call the function on the predefined URL\n",
    "fetch_urls(pitchfork)"
   ]
  },
  {
   "cell_type": "markdown",
   "metadata": {},
   "source": [
    "**Check work**"
   ]
  },
  {
   "cell_type": "code",
   "execution_count": 27,
   "metadata": {},
   "outputs": [
    {
     "data": {
      "text/plain": [
       "21599"
      ]
     },
     "execution_count": 27,
     "metadata": {},
     "output_type": "execute_result"
    }
   ],
   "source": [
    "# How many URLs were compiled?\n",
    "len(urls)"
   ]
  },
  {
   "cell_type": "code",
   "execution_count": 36,
   "metadata": {},
   "outputs": [
    {
     "data": {
      "text/plain": [
       "['/reviews/albums/perfume-genius-set-my-heart-on-fire-immediately/',\n",
       " '/reviews/albums/nick-hakim-will-this-make-me-good/',\n",
       " '/reviews/albums/im-glad-its-you-every-sun-every-moon/',\n",
       " '/reviews/albums/jim-white-marisa-anderson-the-quickening/',\n",
       " '/reviews/albums/the-human-league-dare/']"
      ]
     },
     "execution_count": 36,
     "metadata": {},
     "output_type": "execute_result"
    }
   ],
   "source": [
    "# Check the first 5 to make sure they look as they should\n",
    "urls[0:5]"
   ]
  },
  {
   "cell_type": "markdown",
   "metadata": {},
   "source": [
    "**Save to dataframe and export as a CSV file**"
   ]
  },
  {
   "cell_type": "code",
   "execution_count": 30,
   "metadata": {},
   "outputs": [],
   "source": [
    "# Create a dataframe with a single column in which to store the URLs\n",
    "review_urls = pd.DataFrame(columns = ['url'])"
   ]
  },
  {
   "cell_type": "code",
   "execution_count": 32,
   "metadata": {},
   "outputs": [],
   "source": [
    "# Add the gathered URLs to the column\n",
    "review_urls['url'] = urls"
   ]
  },
  {
   "cell_type": "code",
   "execution_count": 33,
   "metadata": {},
   "outputs": [
    {
     "data": {
      "text/html": [
       "<div>\n",
       "<style scoped>\n",
       "    .dataframe tbody tr th:only-of-type {\n",
       "        vertical-align: middle;\n",
       "    }\n",
       "\n",
       "    .dataframe tbody tr th {\n",
       "        vertical-align: top;\n",
       "    }\n",
       "\n",
       "    .dataframe thead th {\n",
       "        text-align: right;\n",
       "    }\n",
       "</style>\n",
       "<table border=\"1\" class=\"dataframe\">\n",
       "  <thead>\n",
       "    <tr style=\"text-align: right;\">\n",
       "      <th></th>\n",
       "      <th>url</th>\n",
       "    </tr>\n",
       "  </thead>\n",
       "  <tbody>\n",
       "    <tr>\n",
       "      <th>0</th>\n",
       "      <td>/reviews/albums/perfume-genius-set-my-heart-on...</td>\n",
       "    </tr>\n",
       "    <tr>\n",
       "      <th>1</th>\n",
       "      <td>/reviews/albums/nick-hakim-will-this-make-me-g...</td>\n",
       "    </tr>\n",
       "    <tr>\n",
       "      <th>2</th>\n",
       "      <td>/reviews/albums/im-glad-its-you-every-sun-ever...</td>\n",
       "    </tr>\n",
       "    <tr>\n",
       "      <th>3</th>\n",
       "      <td>/reviews/albums/jim-white-marisa-anderson-the-...</td>\n",
       "    </tr>\n",
       "    <tr>\n",
       "      <th>4</th>\n",
       "      <td>/reviews/albums/the-human-league-dare/</td>\n",
       "    </tr>\n",
       "    <tr>\n",
       "      <th>...</th>\n",
       "      <td>...</td>\n",
       "    </tr>\n",
       "    <tr>\n",
       "      <th>21594</th>\n",
       "      <td>/reviews/albums/1527-ten-new-songs/</td>\n",
       "    </tr>\n",
       "    <tr>\n",
       "      <th>21595</th>\n",
       "      <td>/reviews/albums/8150-triangle/</td>\n",
       "    </tr>\n",
       "    <tr>\n",
       "      <th>21596</th>\n",
       "      <td>/reviews/albums/7166-born-into-trouble-as-the-...</td>\n",
       "    </tr>\n",
       "    <tr>\n",
       "      <th>21597</th>\n",
       "      <td>/reviews/albums/3143-kekeland/</td>\n",
       "    </tr>\n",
       "    <tr>\n",
       "      <th>21598</th>\n",
       "      <td>/reviews/albums/5503-please-smile-my-noise-bleed/</td>\n",
       "    </tr>\n",
       "  </tbody>\n",
       "</table>\n",
       "<p>21599 rows × 1 columns</p>\n",
       "</div>"
      ],
      "text/plain": [
       "                                                     url\n",
       "0      /reviews/albums/perfume-genius-set-my-heart-on...\n",
       "1      /reviews/albums/nick-hakim-will-this-make-me-g...\n",
       "2      /reviews/albums/im-glad-its-you-every-sun-ever...\n",
       "3      /reviews/albums/jim-white-marisa-anderson-the-...\n",
       "4                 /reviews/albums/the-human-league-dare/\n",
       "...                                                  ...\n",
       "21594                /reviews/albums/1527-ten-new-songs/\n",
       "21595                     /reviews/albums/8150-triangle/\n",
       "21596  /reviews/albums/7166-born-into-trouble-as-the-...\n",
       "21597                     /reviews/albums/3143-kekeland/\n",
       "21598  /reviews/albums/5503-please-smile-my-noise-bleed/\n",
       "\n",
       "[21599 rows x 1 columns]"
      ]
     },
     "execution_count": 33,
     "metadata": {},
     "output_type": "execute_result"
    }
   ],
   "source": [
    "# Check the final dataframe\n",
    "review_urls"
   ]
  },
  {
   "cell_type": "code",
   "execution_count": 35,
   "metadata": {},
   "outputs": [],
   "source": [
    "# Export results as a CSV file\n",
    "review_urls.to_csv(r'./datasets/partial_pitchfork_urls.csv')"
   ]
  }
 ],
 "metadata": {
  "kernelspec": {
   "display_name": "Python 3",
   "language": "python",
   "name": "python3"
  },
  "language_info": {
   "codemirror_mode": {
    "name": "ipython",
    "version": 3
   },
   "file_extension": ".py",
   "mimetype": "text/x-python",
   "name": "python",
   "nbconvert_exporter": "python",
   "pygments_lexer": "ipython3",
   "version": "3.7.6"
  }
 },
 "nbformat": 4,
 "nbformat_minor": 4
}
